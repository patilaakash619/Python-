{
 "cells": [
  {
   "cell_type": "code",
   "execution_count": null,
   "id": "48f7d5e8",
   "metadata": {},
   "outputs": [],
   "source": [
    "Its is a collection of multiple data type .\n",
    "Its a mutable data type . (we can modify or change).\n",
    "Its  a Ordered Data Types [indexing, & Slicing].\n",
    "Duplicates are allowed."
   ]
  },
  {
   "cell_type": "code",
   "execution_count": null,
   "id": "2cf2b75e",
   "metadata": {},
   "outputs": [],
   "source": [
    "list methods :\n",
    "1. append()\n",
    "2. extend()\n",
    "3. insert()\n",
    "4. index()\n",
    "5. remove()\n",
    "6. pop()\n",
    "7. clear()\n",
    "8. count()\n",
    "9. sort()\n",
    "10. reverse()\n",
    "11. copy()            ## shallow copy\n",
    "12. deepcopy          ## deep copy ---- import copy"
   ]
  },
  {
   "cell_type": "code",
   "execution_count": null,
   "id": "1d8c4d8b",
   "metadata": {},
   "outputs": [],
   "source": [
    "types of list :\n",
    "numbers = [1, 2, 3, 4, 5]                                     ## List of Numbers\n",
    "fruits = [\"apple\", \"banana\", \"orange\"]                        ## List of Strings\n",
    "mixed_list = [1, \"hello\", 3.14, True]                         ## List of Mixed Data Types\n",
    "nested_list = [[1, 2, 3], [4, 5, 6], [7, 8, 9]]               ## Nested List\n",
    "empty_list = []                                               ## Empty List\n",
    "duplicates = [1, 2, 2, 3, 3, 3]                               ## List with Duplicates\n",
    "mixed_types = [1, \"hello\", 3.14, True, [1, 2, 3]]             ## List with Different Data Types"
   ]
  },
  {
   "cell_type": "markdown",
   "id": "fe739599",
   "metadata": {},
   "source": [
    "### 1. append() : Adds an element to the end of the list."
   ]
  },
  {
   "cell_type": "code",
   "execution_count": 1,
   "id": "67a2d779",
   "metadata": {},
   "outputs": [
    {
     "name": "stdout",
     "output_type": "stream",
     "text": [
      "[1, 2, 3, 4]\n"
     ]
    }
   ],
   "source": [
    "numbers = [1, 2, 3]\n",
    "numbers.append(4)\n",
    "print(numbers)                  # Output: [1, 2, 3, 4]"
   ]
  },
  {
   "cell_type": "markdown",
   "id": "64675cd6",
   "metadata": {},
   "source": [
    "### 2. extend() : Extends the list by appending elements from another iterable."
   ]
  },
  {
   "cell_type": "code",
   "execution_count": 3,
   "id": "af32e547",
   "metadata": {},
   "outputs": [
    {
     "name": "stdout",
     "output_type": "stream",
     "text": [
      "[10, 5.5, (5+2j), (10, 5), 5.5, [20, 30]]\n"
     ]
    }
   ],
   "source": [
    "list1 =[10,5.5,5+2j]\n",
    "list2 =[(10,5),5.5,[20,30]]\n",
    "list1.extend(list2)\n",
    "print(list1)"
   ]
  },
  {
   "cell_type": "markdown",
   "id": "f9179bfc",
   "metadata": {},
   "source": [
    "### 3. insert() : Inserts an element at a specific index in the list."
   ]
  },
  {
   "cell_type": "code",
   "execution_count": 5,
   "id": "07679259",
   "metadata": {},
   "outputs": [
    {
     "name": "stdout",
     "output_type": "stream",
     "text": [
      "['cat', 'dog', 'lion', 'elephant']\n"
     ]
    }
   ],
   "source": [
    "animals = ['cat', 'dog', 'elephant']\n",
    "animals.insert(2, 'lion')\n",
    "print(animals)                          # Output: ['cat', 'lion', 'dog', 'elephant']"
   ]
  },
  {
   "cell_type": "markdown",
   "id": "fc61accc",
   "metadata": {},
   "source": [
    "### 4. index() : Returns the index of the first occurrence of a specified element in the list."
   ]
  },
  {
   "cell_type": "code",
   "execution_count": 7,
   "id": "49247899",
   "metadata": {},
   "outputs": [
    {
     "name": "stdout",
     "output_type": "stream",
     "text": [
      "1\n"
     ]
    }
   ],
   "source": [
    "fruits = ['apple', 'banana', 'orange']\n",
    "index = fruits.index('banana')\n",
    "print(index)                           # Output: 1"
   ]
  },
  {
   "cell_type": "markdown",
   "id": "ec11c1dd",
   "metadata": {},
   "source": [
    "### 5. remove() : Removes the first occurrence of a specified element from the list."
   ]
  },
  {
   "cell_type": "code",
   "execution_count": 8,
   "id": "fd7d0e6e",
   "metadata": {},
   "outputs": [
    {
     "name": "stdout",
     "output_type": "stream",
     "text": [
      "['green', 'blue', 'red']\n"
     ]
    }
   ],
   "source": [
    "colors = ['red', 'green', 'blue', 'red']\n",
    "colors.remove('red')\n",
    "print(colors)                            # Output: ['green', 'blue', 'red']"
   ]
  },
  {
   "cell_type": "markdown",
   "id": "7dc8d295",
   "metadata": {},
   "source": [
    "### 6. pop() : Removes and returns the element at the specified index. If no index is provided, it removes the last element."
   ]
  },
  {
   "cell_type": "code",
   "execution_count": 9,
   "id": "04660f36",
   "metadata": {},
   "outputs": [
    {
     "name": "stdout",
     "output_type": "stream",
     "text": [
      "[1, 3, 4]\n",
      "2\n"
     ]
    }
   ],
   "source": [
    "numbers = [1, 2, 3, 4]\n",
    "popped_element = numbers.pop(1)\n",
    "print(numbers)                            # Output: [1, 3, 4]\n",
    "print(popped_element)                     # Output: 2"
   ]
  },
  {
   "cell_type": "markdown",
   "id": "f857bdc0",
   "metadata": {},
   "source": [
    "### 7. clear(): Removes all elements from the list."
   ]
  },
  {
   "cell_type": "code",
   "execution_count": 10,
   "id": "b83212fd",
   "metadata": {},
   "outputs": [
    {
     "name": "stdout",
     "output_type": "stream",
     "text": [
      "[]\n"
     ]
    }
   ],
   "source": [
    "numbers = [1, 2, 3, 4]\n",
    "numbers.clear()\n",
    "print(numbers)                           # Output: []"
   ]
  },
  {
   "cell_type": "markdown",
   "id": "28a7d043",
   "metadata": {},
   "source": [
    "### 8. count() : Returns the number of occurrences of a specified element in the list."
   ]
  },
  {
   "cell_type": "code",
   "execution_count": 11,
   "id": "3f732049",
   "metadata": {},
   "outputs": [
    {
     "name": "stdout",
     "output_type": "stream",
     "text": [
      "3\n"
     ]
    }
   ],
   "source": [
    "numbers = [1, 2, 2, 3, 2]\n",
    "count = numbers.count(2)\n",
    "print(count)                             # Output: 3"
   ]
  },
  {
   "cell_type": "markdown",
   "id": "ee824909",
   "metadata": {},
   "source": [
    "### 9. sort() : Sorts the list in ascending order (in-place)."
   ]
  },
  {
   "cell_type": "code",
   "execution_count": 16,
   "id": "1f4830f9",
   "metadata": {},
   "outputs": [
    {
     "name": "stdout",
     "output_type": "stream",
     "text": [
      "[1, 2, 3, 4]\n"
     ]
    }
   ],
   "source": [
    "numbers = [3, 1, 4, 2]\n",
    "numbers.sort()\n",
    "print(numbers)                           # Output: [1, 2, 3, 4]"
   ]
  },
  {
   "cell_type": "markdown",
   "id": "1c50a34a",
   "metadata": {},
   "source": [
    "### 10. reverse() : Reverses the order of elements in the list (in-place)."
   ]
  },
  {
   "cell_type": "code",
   "execution_count": 17,
   "id": "707b8489",
   "metadata": {},
   "outputs": [
    {
     "name": "stdout",
     "output_type": "stream",
     "text": [
      "['orange', 'banana', 'apple']\n"
     ]
    }
   ],
   "source": [
    "fruits = ['apple', 'banana', 'orange']\n",
    "fruits.reverse()\n",
    "print(fruits)                             # Output: ['orange', 'banana', 'apple']"
   ]
  },
  {
   "cell_type": "markdown",
   "id": "bf695e66",
   "metadata": {},
   "source": [
    "## difference between shallow copy and deep copy ?"
   ]
  },
  {
   "attachments": {
    "explain-the-difference-between-shallow-copy-and-deep-copy-7-1651254812.png": {
     "image/png": "[encoded data removed]"
    }
   },
   "cell_type": "markdown",
   "id": "28675060",
   "metadata": {},
   "source": [
    "![explain-the-difference-between-shallow-copy-and-deep-copy-7-1651254812.png](attachment:explain-the-difference-between-shallow-copy-and-deep-copy-7-1651254812.png)"
   ]
  },
  {
   "cell_type": "code",
   "execution_count": null,
   "id": "d0e86048",
   "metadata": {},
   "outputs": [],
   "source": []
  }
 ],
 "metadata": {
  "kernelspec": {
   "display_name": "Python 3 (ipykernel)",
   "language": "python",
   "name": "python3"
  },
  "language_info": {
   "codemirror_mode": {
    "name": "ipython",
    "version": 3
   },
   "file_extension": ".py",
   "mimetype": "text/x-python",
   "name": "python",
   "nbconvert_exporter": "python",
   "pygments_lexer": "ipython3",
   "version": "3.9.12"
  }
 },
 "nbformat": 4,
 "nbformat_minor": 5
}
