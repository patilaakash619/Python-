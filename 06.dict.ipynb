{
 "cells": [
  {
   "cell_type": "markdown",
   "id": "de2a24c3",
   "metadata": {},
   "source": [
    "## dict"
   ]
  },
  {
   "cell_type": "code",
   "execution_count": null,
   "id": "c2144976",
   "metadata": {},
   "outputs": [],
   "source": [
    "dict:  Dictionaries are used to store data values in key:value pairs.\n",
    "\n",
    "Ordered (Python >= 3.7),\n",
    "Mutable, \n",
    "Duplicate allowed data in values but not in keys , \n",
    "enclosed {}, \n",
    "separated by, \n",
    "dict = {key:value}"
   ]
  },
  {
   "cell_type": "code",
   "execution_count": null,
   "id": "26889ed6",
   "metadata": {},
   "outputs": [],
   "source": [
    "1. It is collection of key and Value pair. \n",
    "2. we can not access key/val by using index, we have use keys\n",
    "3. Duplicates are allowed only for values not for keys \n",
    "4. dict key and values pairs are separated by , \n",
    "5. {} respresented\n",
    "\n",
    "ordered >>> python >= 3.7\n",
    "unordered >>> python < 3.7 (3.2,3.4)\n",
    "\n",
    "key --->> Immutable data types [int, float, str, tuple, frozenset]\n",
    "values ---- >> any data Types [int, float, str, list, tuple, set, frozenset, dict etc]"
   ]
  },
  {
   "cell_type": "markdown",
   "id": "32092d38",
   "metadata": {},
   "source": [
    "### dictionary methods"
   ]
  },
  {
   "cell_type": "code",
   "execution_count": null,
   "id": "cea23838",
   "metadata": {},
   "outputs": [],
   "source": [
    "1. get()                           \n",
    "2. keys()                         \n",
    "3. values()                    \n",
    "4. items()\n",
    "5. update()\n",
    "6. pop()\n",
    "7. popitem()\n",
    "8.clear()\n",
    "9.fromkeys () \n",
    "10.setdefault ()\n",
    "11. copy ()"
   ]
  },
  {
   "cell_type": "markdown",
   "id": "367d0f53",
   "metadata": {},
   "source": [
    "### 1.get method ():get method is used to access the values with help key name "
   ]
  },
  {
   "cell_type": "code",
   "execution_count": 1,
   "id": "1c287ba5",
   "metadata": {},
   "outputs": [
    {
     "name": "stdout",
     "output_type": "stream",
     "text": [
      "Alice\n",
      "Unknown\n"
     ]
    }
   ],
   "source": [
    "my_dict = {'name': 'Alice', 'age': 30}\n",
    "\n",
    "name_value = my_dict.get('name')                   # Using get() to retrieve the value of a key\n",
    "print(name_value)                                  # Output: 'Alice'\n",
    "\n",
    "country_value = my_dict.get('country', 'Unknown')  # Providing a default value if the key is not found\n",
    "print(country_value)                               # Output: 'Unknown'"
   ]
  },
  {
   "cell_type": "markdown",
   "id": "c5bc86a1",
   "metadata": {},
   "source": [
    "### 2.keys(): Returns a view object that displays a list of all the keys in the dictionary."
   ]
  },
  {
   "cell_type": "code",
   "execution_count": 3,
   "id": "e820b7a1",
   "metadata": {},
   "outputs": [
    {
     "name": "stdout",
     "output_type": "stream",
     "text": [
      "['name', 'age']\n"
     ]
    }
   ],
   "source": [
    "my_dict = {'name': 'Alice', 'age': 30}\n",
    "keys_list = list(my_dict.keys())\n",
    "print(keys_list)                                    # Output: ['name', 'age']"
   ]
  },
  {
   "cell_type": "markdown",
   "id": "963a4257",
   "metadata": {},
   "source": [
    "### 3. values(): Returns a view object that displays a list of all the values in the dictionary."
   ]
  },
  {
   "cell_type": "code",
   "execution_count": 4,
   "id": "46a2e533",
   "metadata": {},
   "outputs": [
    {
     "name": "stdout",
     "output_type": "stream",
     "text": [
      "['Alice', 30]\n"
     ]
    }
   ],
   "source": [
    "my_dict = {'name': 'Alice', 'age': 30}\n",
    "values_list = list(my_dict.values())\n",
    "print(values_list)                                 # Output: ['Alice', 30]"
   ]
  },
  {
   "cell_type": "markdown",
   "id": "df83806b",
   "metadata": {},
   "source": [
    "### 4. items(): Returns a view object that displays a list of tuple pairs, representing key-value pairs in the dictionary."
   ]
  },
  {
   "cell_type": "code",
   "execution_count": 5,
   "id": "a877c913",
   "metadata": {},
   "outputs": [
    {
     "name": "stdout",
     "output_type": "stream",
     "text": [
      "[('name', 'Alice'), ('age', 30)]\n"
     ]
    }
   ],
   "source": [
    "my_dict = {'name': 'Alice', 'age': 30}\n",
    "items_list = list(my_dict.items())\n",
    "print(items_list)                                  # Output: [('name', 'Alice'), ('age', 30)]"
   ]
  },
  {
   "cell_type": "markdown",
   "id": "52dc32be",
   "metadata": {},
   "source": [
    "### 5. update(): Updates the dictionary with key-value pairs from another dictionary or an iterable"
   ]
  },
  {
   "cell_type": "code",
   "execution_count": 7,
   "id": "13dde480",
   "metadata": {},
   "outputs": [
    {
     "name": "stdout",
     "output_type": "stream",
     "text": [
      "{'name': 'Alice', 'age': 30, 'country': 'USA', 'occupation': 'Engineer'}\n"
     ]
    }
   ],
   "source": [
    "my_dict = {'name': 'Alice', 'age': 30}\n",
    "new_data = {'country': 'USA', 'occupation': 'Engineer'}\n",
    "my_dict.update(new_data)\n",
    "print(my_dict)                           # Output: {'name': 'Alice', 'age': 30, 'country': 'USA', 'occupation': 'Engineer'}"
   ]
  },
  {
   "cell_type": "markdown",
   "id": "0cbc772b",
   "metadata": {},
   "source": [
    "### 6. pop(): Removes and returns the value associated with the specified key."
   ]
  },
  {
   "cell_type": "code",
   "execution_count": 6,
   "id": "94adeef9",
   "metadata": {},
   "outputs": [
    {
     "name": "stdout",
     "output_type": "stream",
     "text": [
      "30\n",
      "{'name': 'Alice'}\n"
     ]
    }
   ],
   "source": [
    "my_dict = {'name': 'Alice', 'age': 30}\n",
    "removed_value = my_dict.pop('age')\n",
    "print(removed_value)                                 # Output: 30\n",
    "print(my_dict)                                       # Output: {'name': 'Alice'}"
   ]
  },
  {
   "cell_type": "markdown",
   "id": "738189f1",
   "metadata": {},
   "source": [
    "### 7.pop item () : The popitem() method removes the last inserted item (in versions before 3.7, a random item is removed instead)"
   ]
  },
  {
   "cell_type": "code",
   "execution_count": 9,
   "id": "cb7869fd",
   "metadata": {},
   "outputs": [
    {
     "name": "stdout",
     "output_type": "stream",
     "text": [
      "{'brand': 'Ford', 'model': 'Mustang'}\n"
     ]
    }
   ],
   "source": [
    "thisdict = {\n",
    "  \"brand\": \"Ford\",\n",
    "  \"model\": \"Mustang\",\n",
    "  \"year\": 1964\n",
    "}\n",
    "thisdict.popitem()\n",
    "print(thisdict)"
   ]
  },
  {
   "cell_type": "markdown",
   "id": "9b894182",
   "metadata": {},
   "source": [
    "### 8.clear(): Removes all elements from the dictionary."
   ]
  },
  {
   "cell_type": "code",
   "execution_count": 11,
   "id": "1382b815",
   "metadata": {},
   "outputs": [
    {
     "name": "stdout",
     "output_type": "stream",
     "text": [
      "{}\n"
     ]
    }
   ],
   "source": [
    "my_dict = {'name': 'Alice', 'age': 30}\n",
    "my_dict.clear()\n",
    "print(my_dict)                                      # Output: {}"
   ]
  },
  {
   "cell_type": "markdown",
   "id": "cfd2d40d",
   "metadata": {},
   "source": [
    "### 9.fromkeys method () : It will create a dictionary with values .                                                                                                               "
   ]
  },
  {
   "cell_type": "code",
   "execution_count": 13,
   "id": "dc2129af",
   "metadata": {},
   "outputs": [
    {
     "name": "stdout",
     "output_type": "stream",
     "text": [
      "{'key1': 0, 'key2': 0, 'key3': 0}\n"
     ]
    }
   ],
   "source": [
    "x = ('key1', 'key2', 'key3')\n",
    "y = 0\n",
    "thisdict = dict.fromkeys(x, y)\n",
    "print(thisdict)"
   ]
  },
  {
   "cell_type": "markdown",
   "id": "4a532a29",
   "metadata": {},
   "source": [
    "### 10.setdefault : return a value with specified key . And also update a new key with new value."
   ]
  },
  {
   "cell_type": "code",
   "execution_count": 14,
   "id": "b1fa6999",
   "metadata": {},
   "outputs": [
    {
     "name": "stdout",
     "output_type": "stream",
     "text": [
      "{'phy': 92, 'chem': 85, 'math': 88, 'bio': 95, 'eng': 90, 'hindi': 55}\n"
     ]
    }
   ],
   "source": [
    "result = {'phy': 92, 'chem': 85, 'math': 88, 'bio': 95, 'eng': 90}\n",
    "result.setdefault(\"hindi\",55)\n",
    "print(result)"
   ]
  },
  {
   "cell_type": "markdown",
   "id": "baa68be4",
   "metadata": {},
   "source": [
    "### 11. copy method () : The copy() method returns a copy of the specified dictionary."
   ]
  },
  {
   "cell_type": "code",
   "execution_count": 15,
   "id": "2bbd37b3",
   "metadata": {},
   "outputs": [
    {
     "name": "stdout",
     "output_type": "stream",
     "text": [
      "{'phy': 92, 'chem': 85, 'math': 88, 'bio': 95, 'eng': 90}\n",
      "{'phy': 92, 'chem': 85, 'math': 88, 'bio': 95, 'eng': 90, 'hindi': 95}\n"
     ]
    }
   ],
   "source": [
    "result = {'phy': 92, 'chem': 85, 'math': 88, 'bio': 95, 'eng': 90}\n",
    "d1 = result.copy()\n",
    "d1['hindi'] = 95\n",
    "\n",
    "print(result)\n",
    "print(d1)\n"
   ]
  },
  {
   "cell_type": "code",
   "execution_count": null,
   "id": "5bd8019e",
   "metadata": {},
   "outputs": [],
   "source": []
  }
 ],
 "metadata": {
  "kernelspec": {
   "display_name": "Python 3 (ipykernel)",
   "language": "python",
   "name": "python3"
  },
  "language_info": {
   "codemirror_mode": {
    "name": "ipython",
    "version": 3
   },
   "file_extension": ".py",
   "mimetype": "text/x-python",
   "name": "python",
   "nbconvert_exporter": "python",
   "pygments_lexer": "ipython3",
   "version": "3.9.12"
  }
 },
 "nbformat": 4,
 "nbformat_minor": 5
}
