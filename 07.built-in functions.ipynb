{
 "cells": [
  {
   "cell_type": "markdown",
   "id": "9f9ca531",
   "metadata": {},
   "source": [
    "# built-in functions"
   ]
  },
  {
   "cell_type": "code",
   "execution_count": null,
   "id": "fc2af399",
   "metadata": {},
   "outputs": [],
   "source": [
    "Python comes with a rich set of built-in functions that are readily available for use without the need for explicit\n",
    "import statements. Here are some of the commonly used built-in functions in Python:\n",
    "\n",
    "print():                        Used to print output to the console.\n",
    "len():                          Returns the number of items in an object (e.g., string, list, tuple).\n",
    "input():                        Reads input from the user via the console.\n",
    "range():                        Generates a sequence of numbers within a specified range.\n",
    "type():                         Returns the type of an object.\n",
    "int(), float(), str(), bool():  Used for type conversion.\n",
    "sum():                          Returns the sum of elements in an iterable (e.g., list, tuple).\n",
    "max(), min():                   Returns the maximum and minimum value in an iterable.\n",
    "abs():                          Returns the absolute value of a number.\n",
    "round():                        Rounds a number to a specified number of decimal places.\n",
    "sorted():                       Sorts elements in an iterable and returns a new sorted list.\n",
    "enumerate():                    Returns an iterator of tuples with index and value.\n",
    "zip():                          Combines multiple iterables into tuples.\n",
    "map():                          Applies a function to all items in an iterable.\n",
    "filter():                       Filters elements from an iterable based on a condition.\n",
    "These are just a few examples of the many built-in functions available in Python. Python's standard library includes \n",
    "numerous other functions that cover various tasks, such as file I/O, mathematical operations, data manipulation, and\n",
    "much more."
   ]
  },
  {
   "cell_type": "markdown",
   "id": "76e82421",
   "metadata": {},
   "source": [
    "## 1.print(): Used to print output to the console."
   ]
  },
  {
   "cell_type": "code",
   "execution_count": 1,
   "id": "a2c29460",
   "metadata": {},
   "outputs": [
    {
     "name": "stdout",
     "output_type": "stream",
     "text": [
      "Hello, World!\n"
     ]
    }
   ],
   "source": [
    "print(\"Hello, World!\")"
   ]
  },
  {
   "cell_type": "markdown",
   "id": "1a6de386",
   "metadata": {},
   "source": [
    "## 2.len(): Returns the number of items in an object (e.g., string, list, tuple)."
   ]
  },
  {
   "cell_type": "code",
   "execution_count": 2,
   "id": "127e506e",
   "metadata": {},
   "outputs": [
    {
     "name": "stdout",
     "output_type": "stream",
     "text": [
      "6\n"
     ]
    }
   ],
   "source": [
    "text = \"Python\"\n",
    "print(len(text))"
   ]
  },
  {
   "cell_type": "markdown",
   "id": "e54453ed",
   "metadata": {},
   "source": [
    "## 3.input(): Reads input from the user via the console."
   ]
  },
  {
   "cell_type": "code",
   "execution_count": 3,
   "id": "ecaba9b7",
   "metadata": {},
   "outputs": [
    {
     "name": "stdout",
     "output_type": "stream",
     "text": [
      "Enter your name: aakash\n",
      "Hello, aakash!\n"
     ]
    }
   ],
   "source": [
    "name = input(\"Enter your name: \")\n",
    "print(\"Hello, \" + name + \"!\")"
   ]
  },
  {
   "cell_type": "markdown",
   "id": "704070dc",
   "metadata": {},
   "source": [
    "## 4.range(): Generates a sequence of numbers within a specified range."
   ]
  },
  {
   "cell_type": "code",
   "execution_count": 4,
   "id": "4e815b71",
   "metadata": {},
   "outputs": [
    {
     "name": "stdout",
     "output_type": "stream",
     "text": [
      "[1, 2, 3, 4, 5]\n"
     ]
    }
   ],
   "source": [
    "numbers = list(range(1, 6))\n",
    "print(numbers)"
   ]
  },
  {
   "cell_type": "markdown",
   "id": "c7caff23",
   "metadata": {},
   "source": [
    "## 5.type(): Returns the type of an object"
   ]
  },
  {
   "cell_type": "code",
   "execution_count": 5,
   "id": "1d432685",
   "metadata": {},
   "outputs": [
    {
     "name": "stdout",
     "output_type": "stream",
     "text": [
      "<class 'int'>\n"
     ]
    }
   ],
   "source": [
    "number = 42\n",
    "print(type(number))"
   ]
  },
  {
   "cell_type": "markdown",
   "id": "89b28afa",
   "metadata": {},
   "source": [
    "## 6.int(), float(), str(), bool(): Used for type conversion."
   ]
  },
  {
   "cell_type": "code",
   "execution_count": 6,
   "id": "18cd8d56",
   "metadata": {},
   "outputs": [
    {
     "name": "stdout",
     "output_type": "stream",
     "text": [
      "10\n",
      "3.14\n",
      "42\n",
      "False\n"
     ]
    }
   ],
   "source": [
    "x = \"10\"\n",
    "y = int(x)\n",
    "print(y)\n",
    "\n",
    "z = float(\"3.14\")\n",
    "print(z)\n",
    "\n",
    "s = str(42)\n",
    "print(s)\n",
    "\n",
    "b = bool(0)\n",
    "print(b)"
   ]
  },
  {
   "cell_type": "markdown",
   "id": "69aebac7",
   "metadata": {},
   "source": [
    "## 7.sum(): Returns the sum of elements in an iterable (e.g., list, tuple)."
   ]
  },
  {
   "cell_type": "code",
   "execution_count": 7,
   "id": "99e7f8d9",
   "metadata": {},
   "outputs": [
    {
     "name": "stdout",
     "output_type": "stream",
     "text": [
      "15\n"
     ]
    }
   ],
   "source": [
    "numbers = [1, 2, 3, 4, 5]\n",
    "total = sum(numbers)\n",
    "print(total)"
   ]
  },
  {
   "cell_type": "markdown",
   "id": "d64378f0",
   "metadata": {},
   "source": [
    "## 8.max(), min(): Returns the maximum and minimum value in an iterable."
   ]
  },
  {
   "cell_type": "code",
   "execution_count": 8,
   "id": "b5d9b11d",
   "metadata": {},
   "outputs": [
    {
     "name": "stdout",
     "output_type": "stream",
     "text": [
      "9\n",
      "1\n"
     ]
    }
   ],
   "source": [
    "numbers = [5, 2, 9, 1, 7]\n",
    "maximum = max(numbers)\n",
    "minimum = min(numbers)\n",
    "print(maximum)\n",
    "print(minimum)"
   ]
  },
  {
   "cell_type": "markdown",
   "id": "7d015a30",
   "metadata": {},
   "source": [
    "## 9.abs(): Returns the absolute value of a number."
   ]
  },
  {
   "cell_type": "code",
   "execution_count": 9,
   "id": "9a68ff76",
   "metadata": {},
   "outputs": [
    {
     "name": "stdout",
     "output_type": "stream",
     "text": [
      "10\n"
     ]
    }
   ],
   "source": [
    "x = -10\n",
    "absolute_value = abs(x)\n",
    "print(absolute_value)"
   ]
  },
  {
   "cell_type": "markdown",
   "id": "8926a032",
   "metadata": {},
   "source": [
    "## 10.round(): Rounds a number to a specified number of decimal places."
   ]
  },
  {
   "cell_type": "code",
   "execution_count": 10,
   "id": "4d91e171",
   "metadata": {},
   "outputs": [
    {
     "name": "stdout",
     "output_type": "stream",
     "text": [
      "3.14\n"
     ]
    }
   ],
   "source": [
    "pi = 3.14159\n",
    "rounded_pi = round(pi, 2)\n",
    "print(rounded_pi)"
   ]
  },
  {
   "cell_type": "markdown",
   "id": "0b8d827a",
   "metadata": {},
   "source": [
    "## 11.sorted() : sort a given iterable (e.g., list, tuple, string) in ascending order."
   ]
  },
  {
   "cell_type": "code",
   "execution_count": 11,
   "id": "f402863b",
   "metadata": {},
   "outputs": [
    {
     "name": "stdout",
     "output_type": "stream",
     "text": [
      "[1, 2, 5, 6, 8]\n"
     ]
    }
   ],
   "source": [
    "numbers = [5, 2, 8, 1, 6]\n",
    "sorted_numbers = sorted(numbers)\n",
    "print(sorted_numbers)  # Output: [1, 2, 5, 6, 8]"
   ]
  },
  {
   "cell_type": "code",
   "execution_count": 12,
   "id": "b1000df6",
   "metadata": {},
   "outputs": [
    {
     "name": "stdout",
     "output_type": "stream",
     "text": [
      "['apple', 'grape', 'banana', 'orange']\n"
     ]
    }
   ],
   "source": [
    "words = [\"apple\", \"banana\", \"grape\", \"orange\"]\n",
    "sorted_words = sorted(words, key=len)\n",
    "print(sorted_words)  # Output: ['grape', 'apple', 'banana', 'orange']"
   ]
  },
  {
   "cell_type": "markdown",
   "id": "5a7c2619",
   "metadata": {},
   "source": [
    "## 12.enumerate():Returns an iterator of tuples with index and value."
   ]
  },
  {
   "cell_type": "code",
   "execution_count": 15,
   "id": "6ce819a2",
   "metadata": {},
   "outputs": [
    {
     "name": "stdout",
     "output_type": "stream",
     "text": [
      "Index: 0, Fruit: apple\n",
      "Index: 1, Fruit: banana\n",
      "Index: 2, Fruit: orange\n"
     ]
    }
   ],
   "source": [
    "fruits = ['apple', 'banana', 'orange']\n",
    "\n",
    "for index, fruit in enumerate(fruits):\n",
    "    print(f\"Index: {index}, Fruit: {fruit}\")"
   ]
  },
  {
   "cell_type": "code",
   "execution_count": 16,
   "id": "4de3609b",
   "metadata": {},
   "outputs": [
    {
     "name": "stdout",
     "output_type": "stream",
     "text": [
      "Index: 1, Fruit: apple\n",
      "Index: 2, Fruit: banana\n",
      "Index: 3, Fruit: orange\n"
     ]
    }
   ],
   "source": [
    "fruits = ['apple', 'banana', 'orange']\n",
    "\n",
    "for index, fruit in enumerate(fruits, start=1):\n",
    "    print(f\"Index: {index}, Fruit: {fruit}\")"
   ]
  },
  {
   "cell_type": "markdown",
   "id": "6b9488dc",
   "metadata": {},
   "source": [
    "## 13.zip():Combines multiple iterables into tuples."
   ]
  },
  {
   "cell_type": "code",
   "execution_count": null,
   "id": "b2afc496",
   "metadata": {},
   "outputs": [],
   "source": [
    "zip() function is a built-in function that takes multiple iterables (e.g., lists, tuples) and returns an iterator that\n",
    "generates tuples containing elements from each iterable paired together. The resulting iterator stops when the shortest\n",
    "input iterable is exhausted.\n",
    "SYNTAX : zip(iterable1, iterable2, ...)"
   ]
  },
  {
   "cell_type": "code",
   "execution_count": 17,
   "id": "ba4c460a",
   "metadata": {},
   "outputs": [
    {
     "name": "stdout",
     "output_type": "stream",
     "text": [
      "[('Alice', 25, 'USA'), ('Bob', 30, 'UK'), ('Charlie', 35, 'Canada')]\n"
     ]
    }
   ],
   "source": [
    "names = ['Alice', 'Bob', 'Charlie']\n",
    "ages = [25, 30, 35]\n",
    "countries = ['USA', 'UK', 'Canada']\n",
    "\n",
    "zipped_data = zip(names, ages, countries)        # Using zip() to combine the lists.\n",
    "\n",
    "zipped_list = list(zipped_data)                 # Converting the zip object to a list of tuples.\n",
    "\n",
    "print(zipped_list)"
   ]
  },
  {
   "cell_type": "markdown",
   "id": "e2622f96",
   "metadata": {},
   "source": [
    "## 14.map(): Applies a function to all items in an iterable."
   ]
  },
  {
   "cell_type": "code",
   "execution_count": null,
   "id": "17532fb2",
   "metadata": {},
   "outputs": [],
   "source": [
    "The map() function in Python is a built-in function used to apply a given function to each item of one or more iterables\n",
    "(e.g., lists, tuples) and returns an iterator that yields the results. The map() function takes two or more arguments:\n",
    "the function to apply and one or more iterables. The function will be applied to corresponding elements from the provided\n",
    "iterables, and the results will be returned in the form of an iterator.\n",
    "SYNTAX : map(function, iterable, ...)"
   ]
  },
  {
   "cell_type": "code",
   "execution_count": 18,
   "id": "46c3317b",
   "metadata": {},
   "outputs": [
    {
     "name": "stdout",
     "output_type": "stream",
     "text": [
      "[1, 4, 9, 16, 25]\n"
     ]
    }
   ],
   "source": [
    "numbers = [1, 2, 3, 4, 5]\n",
    "squared_numbers = map(lambda x: x ** 2, numbers)\n",
    "print(list(squared_numbers))                  # Output: [1, 4, 9, 16, 25]"
   ]
  },
  {
   "cell_type": "code",
   "execution_count": 19,
   "id": "590b9944",
   "metadata": {},
   "outputs": [
    {
     "name": "stdout",
     "output_type": "stream",
     "text": [
      "[1, 4, 9, 16, 25]\n"
     ]
    }
   ],
   "source": [
    "def square(x):\n",
    "    return x ** 2\n",
    "\n",
    "numbers = [1, 2, 3, 4, 5]\n",
    "\n",
    "squared_numbers = map(square, numbers)        # Using map() to apply the square function to each element in the numbers list\n",
    "print(list(squared_numbers))                  # Output: [1, 4, 9, 16, 25]"
   ]
  },
  {
   "cell_type": "markdown",
   "id": "24a79ac5",
   "metadata": {},
   "source": [
    "## 15.filter(): Filters elements from an iterable based on a condition."
   ]
  },
  {
   "cell_type": "code",
   "execution_count": null,
   "id": "022409da",
   "metadata": {},
   "outputs": [],
   "source": [
    "The filter() function in Python is a built-in function used to filter elements from an iterable (e.g., list, tuple) based\n",
    "on a given function's condition. It returns an iterator that contains only the elements for which the function returns True.\n",
    "SYNTAX : filter(function, iterable)"
   ]
  },
  {
   "cell_type": "code",
   "execution_count": 20,
   "id": "49848a64",
   "metadata": {},
   "outputs": [
    {
     "name": "stdout",
     "output_type": "stream",
     "text": [
      "[2, 4, 6, 8, 10]\n"
     ]
    }
   ],
   "source": [
    "numbers = [1, 2, 3, 4, 5, 6, 7, 8, 9, 10]\n",
    "\n",
    "even_numbers = filter(lambda x: x % 2 == 0, numbers)  # Using filter() with a lambda function to keep only even numbers\n",
    "print(list(even_numbers))                             # Output: [2, 4, 6, 8, 10]"
   ]
  },
  {
   "cell_type": "code",
   "execution_count": 21,
   "id": "fd1c74df",
   "metadata": {},
   "outputs": [
    {
     "name": "stdout",
     "output_type": "stream",
     "text": [
      "[2, 4, 6, 8, 10]\n"
     ]
    }
   ],
   "source": [
    "def is_even(x):\n",
    "    return x % 2 == 0\n",
    "\n",
    "numbers = [1, 2, 3, 4, 5, 6, 7, 8, 9, 10]\n",
    "\n",
    "even_numbers = filter(is_even, numbers)              # Using filter() to keep only even numbers in the numbers list\n",
    "print(list(even_numbers))                            # Output: [2, 4, 6, 8, 10]"
   ]
  },
  {
   "cell_type": "code",
   "execution_count": null,
   "id": "f1c0e1cf",
   "metadata": {},
   "outputs": [],
   "source": []
  },
  {
   "cell_type": "code",
   "execution_count": null,
   "id": "1e4cb789",
   "metadata": {},
   "outputs": [],
   "source": []
  }
 ],
 "metadata": {
  "kernelspec": {
   "display_name": "Python 3 (ipykernel)",
   "language": "python",
   "name": "python3"
  },
  "language_info": {
   "codemirror_mode": {
    "name": "ipython",
    "version": 3
   },
   "file_extension": ".py",
   "mimetype": "text/x-python",
   "name": "python",
   "nbconvert_exporter": "python",
   "pygments_lexer": "ipython3",
   "version": "3.9.12"
  }
 },
 "nbformat": 4,
 "nbformat_minor": 5
}
