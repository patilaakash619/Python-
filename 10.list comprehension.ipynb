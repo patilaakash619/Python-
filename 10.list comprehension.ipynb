{
 "cells": [
  {
   "cell_type": "code",
   "execution_count": null,
   "id": "e27b1344",
   "metadata": {},
   "outputs": [],
   "source": [
    "List comprehension : List comprehension is a concise and expressive way to create lists in Python. It allows you to construct\n",
    "                     lists using a singleline of code, avoiding the need for traditional loops."
   ]
  },
  {
   "cell_type": "code",
   "execution_count": 19,
   "id": "6a15ca7d",
   "metadata": {},
   "outputs": [
    {
     "name": "stdout",
     "output_type": "stream",
     "text": [
      "[0, 1, 2, 3, 4, 5, 6, 7, 8, 9, 10]\n"
     ]
    }
   ],
   "source": [
    "n = []                                    # using for loop.\n",
    "for i in range(0,11):\n",
    "    n.append(i)\n",
    "\n",
    "print(n)"
   ]
  },
  {
   "cell_type": "code",
   "execution_count": 20,
   "id": "03daba40",
   "metadata": {},
   "outputs": [
    {
     "name": "stdout",
     "output_type": "stream",
     "text": [
      "[0, 1, 2, 3, 4, 5, 6, 7, 8, 9, 10]\n"
     ]
    }
   ],
   "source": [
    "n=[m for m in range(0,11)]               # using list comprehension.\n",
    "print(n)"
   ]
  },
  {
   "cell_type": "markdown",
   "id": "0925d3d5",
   "metadata": {},
   "source": [
    "### 1.Create a list of squares of numbers from 1 to 10 using list comprehension."
   ]
  },
  {
   "cell_type": "code",
   "execution_count": 21,
   "id": "f70ce7a0",
   "metadata": {},
   "outputs": [
    {
     "name": "stdout",
     "output_type": "stream",
     "text": [
      "[0, 1, 4, 9, 16, 25, 36, 49, 64, 81, 100]\n"
     ]
    }
   ],
   "source": [
    "square =[x**2 for x in range(0,11)]\n",
    "print(square)"
   ]
  },
  {
   "cell_type": "code",
   "execution_count": 41,
   "id": "35d194b9",
   "metadata": {},
   "outputs": [
    {
     "name": "stdout",
     "output_type": "stream",
     "text": [
      "[1, 8, 27, 64, 125]\n"
     ]
    }
   ],
   "source": [
    "cubes = [x**3 for x in range(1, 6)]\n",
    "print(cubes)                                        # Output: [1, 8, 27, 64, 125]"
   ]
  },
  {
   "cell_type": "markdown",
   "id": "1ff3c708",
   "metadata": {},
   "source": [
    "### 2.Given a list of numbers, create a new list containing only the even numbers using list comprehension."
   ]
  },
  {
   "cell_type": "code",
   "execution_count": 22,
   "id": "9d8652f9",
   "metadata": {},
   "outputs": [
    {
     "name": "stdout",
     "output_type": "stream",
     "text": [
      "[0, 2, 4, 6, 8, 10]\n"
     ]
    }
   ],
   "source": [
    "l1=[0,1,2,3,4,5,6,7,8,9,10]\n",
    "even_no=[x for x in l1 if x % 2 ==0]\n",
    "print(even_no)"
   ]
  },
  {
   "cell_type": "code",
   "execution_count": 42,
   "id": "369ac36d",
   "metadata": {},
   "outputs": [
    {
     "name": "stdout",
     "output_type": "stream",
     "text": [
      "[1, 3, 5, 7, 9]\n"
     ]
    }
   ],
   "source": [
    "l1=[0,1,2,3,4,5,6,7,8,9,10]\n",
    "odd_no=[x for x in l1 if x % 2 !=0]\n",
    "print(odd_no)"
   ]
  },
  {
   "cell_type": "markdown",
   "id": "6bd116c7",
   "metadata": {},
   "source": [
    "### 3.Convert a list of strings to a list of their lengths using list comprehension."
   ]
  },
  {
   "cell_type": "code",
   "execution_count": 23,
   "id": "15458793",
   "metadata": {},
   "outputs": [
    {
     "name": "stdout",
     "output_type": "stream",
     "text": [
      "[5, 6, 6, 4]\n"
     ]
    }
   ],
   "source": [
    "words=['apple','banana','orange','kiwi']\n",
    "word_leangth=[len(words) for words in words]\n",
    "print(word_leangth)"
   ]
  },
  {
   "cell_type": "markdown",
   "id": "2467768b",
   "metadata": {},
   "source": [
    "### 4.Given a list of numbers, create a new list that contains only the positive numbers using list comprehension."
   ]
  },
  {
   "cell_type": "code",
   "execution_count": 26,
   "id": "22f3294a",
   "metadata": {},
   "outputs": [
    {
     "name": "stdout",
     "output_type": "stream",
     "text": [
      "[10, 15, 20]\n"
     ]
    }
   ],
   "source": [
    "no = [10, -5, 15, -8, 20, -3]\n",
    "positive_no=[x for x in no if x > 0]\n",
    "print(positive_no)"
   ]
  },
  {
   "cell_type": "markdown",
   "id": "b972e1f0",
   "metadata": {},
   "source": [
    "### 5.Create a list of all possible pairs of numbers from two lists using list comprehension."
   ]
  },
  {
   "cell_type": "code",
   "execution_count": 31,
   "id": "e4235ed6",
   "metadata": {},
   "outputs": [
    {
     "name": "stdout",
     "output_type": "stream",
     "text": [
      "[(1, 'a'), (1, 'b'), (2, 'a'), (2, 'b'), (3, 'a'), (3, 'b')]\n"
     ]
    }
   ],
   "source": [
    "list1=[1,2,3]\n",
    "list2=['a','b']\n",
    "pair=[(x,y) for x in list1 for y in list2]\n",
    "print(pair)"
   ]
  },
  {
   "cell_type": "code",
   "execution_count": 4,
   "id": "30dbbbac",
   "metadata": {},
   "outputs": [
    {
     "name": "stdout",
     "output_type": "stream",
     "text": [
      "[(1, 'a'), (2, 'b'), (3, 'c')]\n"
     ]
    }
   ],
   "source": [
    "list1=[1,2,3]\n",
    "list2=['a','b','c']\n",
    "pair_list=[(x,y) for x,y in zip(list1,list2)]\n",
    "print(pair_list)"
   ]
  },
  {
   "cell_type": "markdown",
   "id": "d77fa09f",
   "metadata": {},
   "source": [
    "### 6.Given a list of words, create a new list that contains the words with more than 5 characters using list comprehension."
   ]
  },
  {
   "cell_type": "code",
   "execution_count": 32,
   "id": "af03d389",
   "metadata": {},
   "outputs": [
    {
     "name": "stdout",
     "output_type": "stream",
     "text": [
      "[6, 6]\n"
     ]
    }
   ],
   "source": [
    "words = ['apple', 'banana', 'orange', 'kiwi', 'grape']\n",
    "long_word =[len(word) for word in words if len(word)>5]\n",
    "print(long_word)"
   ]
  },
  {
   "cell_type": "code",
   "execution_count": 33,
   "id": "5c208c2c",
   "metadata": {},
   "outputs": [
    {
     "name": "stdout",
     "output_type": "stream",
     "text": [
      "['banana', 'orange']\n"
     ]
    }
   ],
   "source": [
    "words = ['apple', 'banana', 'orange', 'kiwi', 'grape']\n",
    "long_word =[word for word in words if len(word)>5]\n",
    "print(long_word)"
   ]
  },
  {
   "cell_type": "markdown",
   "id": "cd27c66a",
   "metadata": {},
   "source": [
    "### 7.Create a list of the first 10 multiples of 3 using list comprehension."
   ]
  },
  {
   "cell_type": "code",
   "execution_count": 35,
   "id": "16cc8e6f",
   "metadata": {},
   "outputs": [
    {
     "name": "stdout",
     "output_type": "stream",
     "text": [
      "[0, 3, 6, 9, 12, 15, 18, 21, 24, 27, 30]\n"
     ]
    }
   ],
   "source": [
    "multi_3 =[ 3*x for x in range (0,11)]\n",
    "print(multi_3)"
   ]
  },
  {
   "cell_type": "markdown",
   "id": "98827a09",
   "metadata": {},
   "source": [
    "### 8.Given a list of numbers, create a new list that contains the square root of each number using list comprehension."
   ]
  },
  {
   "cell_type": "code",
   "execution_count": 37,
   "id": "6ae9d42f",
   "metadata": {},
   "outputs": [
    {
     "name": "stdout",
     "output_type": "stream",
     "text": [
      "[3.0, 4.0, 5.0, 6.0, 7.0]\n"
     ]
    }
   ],
   "source": [
    "import math\n",
    "\n",
    "numbers = [9, 16, 25, 36, 49]\n",
    "sq_rt =[math.sqrt(x) for x in numbers]\n",
    "print(sq_rt)"
   ]
  },
  {
   "cell_type": "markdown",
   "id": "008211dd",
   "metadata": {},
   "source": [
    "### 9.Create a list of all the uppercase letters in the English alphabet using list comprehension."
   ]
  },
  {
   "cell_type": "code",
   "execution_count": 39,
   "id": "7b8be220",
   "metadata": {},
   "outputs": [
    {
     "name": "stdout",
     "output_type": "stream",
     "text": [
      "['A', 'B', 'C', 'D', 'E', 'F', 'G', 'H', 'I', 'J', 'K', 'L', 'M', 'N', 'O', 'P', 'Q', 'R', 'S', 'T', 'U', 'V', 'W', 'X', 'Y', 'Z']\n"
     ]
    }
   ],
   "source": [
    "upper_case=[chr(x) for x in range (ord('A'),ord('Z')+1)]\n",
    "print(upper_case)"
   ]
  },
  {
   "cell_type": "code",
   "execution_count": 2,
   "id": "1df3be01",
   "metadata": {},
   "outputs": [
    {
     "name": "stdout",
     "output_type": "stream",
     "text": [
      "['a', 'b', 'c', 'd', 'e', 'f', 'g', 'h', 'i', 'j', 'k', 'l', 'm', 'n', 'o', 'p', 'q', 'r', 's', 't', 'u', 'v', 'w', 'x', 'y', 'z']\n"
     ]
    }
   ],
   "source": [
    "lower_case = [chr(x) for x in range (ord('a'),ord('z') +1)]\n",
    "print(lower_case)"
   ]
  },
  {
   "cell_type": "markdown",
   "id": "99f2255f",
   "metadata": {},
   "source": [
    "### 10.Given a list of strings, create a new list that contains the strings with the letter 'a' in them using list comprehension."
   ]
  },
  {
   "cell_type": "code",
   "execution_count": 40,
   "id": "24135621",
   "metadata": {},
   "outputs": [
    {
     "name": "stdout",
     "output_type": "stream",
     "text": [
      "['apple', 'banana', 'orange', 'kiwi', 'grape']\n"
     ]
    }
   ],
   "source": [
    "words = ['apple', 'banana', 'orange', 'kiwi', 'grape']\n",
    "new_list=[word for word in words if 'a in words']\n",
    "print(new_list)"
   ]
  },
  {
   "cell_type": "markdown",
   "id": "cffc4c9e",
   "metadata": {},
   "source": [
    "### 11.Convert a list of strings to uppercase using list comprehension."
   ]
  },
  {
   "cell_type": "code",
   "execution_count": 44,
   "id": "5f6d97ab",
   "metadata": {},
   "outputs": [
    {
     "name": "stdout",
     "output_type": "stream",
     "text": [
      "['HELLO', 'WORLD', 'PYTHON']\n"
     ]
    }
   ],
   "source": [
    "words = ['hello', 'world', 'python']\n",
    "upper_case_words=[word.upper() for word in words]\n",
    "print(upper_case_words)"
   ]
  },
  {
   "cell_type": "markdown",
   "id": "1de0e80d",
   "metadata": {},
   "source": [
    "### 12.Given a list of words, create a new list that contains the words starting with the letter 'a' using list comprehension."
   ]
  },
  {
   "cell_type": "code",
   "execution_count": 45,
   "id": "1c5b008e",
   "metadata": {},
   "outputs": [
    {
     "name": "stdout",
     "output_type": "stream",
     "text": [
      "['apple']\n"
     ]
    }
   ],
   "source": [
    "words = ['apple', 'banana', 'orange', 'kiwi', 'grape']\n",
    "a_words = [word for word in words if word.startswith('a')]\n",
    "print(a_words)                                                    # Output: ['apple']"
   ]
  },
  {
   "cell_type": "markdown",
   "id": "b411bef5",
   "metadata": {},
   "source": [
    "### 13. Create a list of the squares of even numbers from 1 to 10 using list comprehension."
   ]
  },
  {
   "cell_type": "code",
   "execution_count": 1,
   "id": "4a83d1e8",
   "metadata": {},
   "outputs": [
    {
     "name": "stdout",
     "output_type": "stream",
     "text": [
      "[0, 2, 4, 6, 8, 10]\n",
      "[0, 4, 16, 36, 64, 100]\n"
     ]
    }
   ],
   "source": [
    "even_no=[x for x in range(0,11) if x % 2 == 0]\n",
    "sq_even_no=[x**2 for x in even_no]\n",
    "print(even_no)\n",
    "print(sq_even_no)"
   ]
  },
  {
   "cell_type": "markdown",
   "id": "03410535",
   "metadata": {},
   "source": [
    "### 14.Given a list of strings, create a new list that contains the strings with more than 3 characters and less than 6 characters using list comprehension."
   ]
  },
  {
   "cell_type": "code",
   "execution_count": 51,
   "id": "e5169aa1",
   "metadata": {},
   "outputs": [
    {
     "name": "stdout",
     "output_type": "stream",
     "text": [
      "['apple', 'kiwi', 'grape']\n"
     ]
    }
   ],
   "source": [
    "words = ['apple', 'banana', 'orange', 'kiwi', 'grape']\n",
    "filtered_words=[word for word in words if 3 < len(word) < 6 ]\n",
    "print(filtered_words)"
   ]
  },
  {
   "cell_type": "markdown",
   "id": "50670ac9",
   "metadata": {},
   "source": [
    "### 15.Create a list of tuples containing the numbers and their squares, but only for even numbers."
   ]
  },
  {
   "cell_type": "code",
   "execution_count": 52,
   "id": "9fa3fbfd",
   "metadata": {},
   "outputs": [
    {
     "name": "stdout",
     "output_type": "stream",
     "text": [
      "[(2, 4), (4, 16), (6, 36), (8, 64), (10, 100)]\n"
     ]
    }
   ],
   "source": [
    "numbers = [1, 2, 3, 4, 5, 6, 7, 8, 9, 10]\n",
    "even_number_and_square = [(x,x**2) for x in numbers if x % 2 == 0]\n",
    "print(even_number_and_square) "
   ]
  },
  {
   "cell_type": "markdown",
   "id": "0d1e6f77",
   "metadata": {},
   "source": [
    "### 16.Given two lists, create a new list that contains the sum of corresponding elements from both lists using list comprehension."
   ]
  },
  {
   "cell_type": "code",
   "execution_count": 53,
   "id": "0f53a679",
   "metadata": {},
   "outputs": [
    {
     "name": "stdout",
     "output_type": "stream",
     "text": [
      "[11, 22, 33, 44]\n"
     ]
    }
   ],
   "source": [
    "list1 = [1, 2, 3, 4]\n",
    "list2 = [10, 20, 30, 40]\n",
    "sum_list=[(x+y) for x,y in zip(list1,list2)]\n",
    "print(sum_list)"
   ]
  },
  {
   "cell_type": "markdown",
   "id": "095e57d1",
   "metadata": {},
   "source": [
    "### 17.Create a list of numbers from 1 to 100 that are divisible by both 3 and 5 using list comprehension."
   ]
  },
  {
   "cell_type": "code",
   "execution_count": 56,
   "id": "f2ae4ed9",
   "metadata": {},
   "outputs": [
    {
     "name": "stdout",
     "output_type": "stream",
     "text": [
      "[15, 30, 45, 60, 75, 90]\n"
     ]
    }
   ],
   "source": [
    "no=[x for x in range (1,100) if x % 3 ==0 and x % 5 ==0]\n",
    "print(no)"
   ]
  },
  {
   "cell_type": "markdown",
   "id": "06bb165f",
   "metadata": {},
   "source": [
    "### 18.Given a list of numbers, create a new list containing the absolute values of the numbers using list comprehension."
   ]
  },
  {
   "cell_type": "code",
   "execution_count": 63,
   "id": "3c698d05",
   "metadata": {},
   "outputs": [
    {
     "name": "stdout",
     "output_type": "stream",
     "text": [
      "[1, 2, 3, 4, 5]\n"
     ]
    }
   ],
   "source": [
    "numbers = [-1, -2, 3, -4, 5]\n",
    "absolute_values=[abs(x) for x in numbers]\n",
    "print(absolute_values)"
   ]
  },
  {
   "cell_type": "markdown",
   "id": "f9ac1449",
   "metadata": {},
   "source": [
    "### 19.Given a list of numbers, create a new list containing reverse of each word using list comprehension."
   ]
  },
  {
   "cell_type": "code",
   "execution_count": 3,
   "id": "1b6176a1",
   "metadata": {},
   "outputs": [
    {
     "name": "stdout",
     "output_type": "stream",
     "text": [
      "['olleh', 'dlrow', 'nohtyp']\n"
     ]
    }
   ],
   "source": [
    "words = ['hello', 'world', 'python']\n",
    "reverse_word = [word[::-1] for word in words]\n",
    "print(reverse_word)"
   ]
  },
  {
   "cell_type": "code",
   "execution_count": null,
   "id": "e646ded1",
   "metadata": {},
   "outputs": [],
   "source": []
  }
 ],
 "metadata": {
  "kernelspec": {
   "display_name": "Python 3 (ipykernel)",
   "language": "python",
   "name": "python3"
  },
  "language_info": {
   "codemirror_mode": {
    "name": "ipython",
    "version": 3
   },
   "file_extension": ".py",
   "mimetype": "text/x-python",
   "name": "python",
   "nbconvert_exporter": "python",
   "pygments_lexer": "ipython3",
   "version": "3.9.12"
  }
 },
 "nbformat": 4,
 "nbformat_minor": 5
}
