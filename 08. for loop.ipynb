{
 "cells": [
  {
   "cell_type": "code",
   "execution_count": null,
   "id": "7bee381b",
   "metadata": {},
   "outputs": [],
   "source": [
    "for loop : a for loop is used for iterating over a sequence (like a list, tuple, string, or dictionary) or any iterable object.\n",
    "           It allows you to execute a block of code repeatedly for each item in the sequence. "
   ]
  },
  {
   "cell_type": "code",
   "execution_count": 9,
   "id": "2ea233e6",
   "metadata": {},
   "outputs": [
    {
     "name": "stdout",
     "output_type": "stream",
     "text": [
      "0\n",
      "1\n"
     ]
    }
   ],
   "source": [
    "for i in range(0,2):\n",
    "    print(i)"
   ]
  },
  {
   "cell_type": "markdown",
   "id": "11b08939",
   "metadata": {},
   "source": [
    "## Example 1: Iterate over a list using a for loop"
   ]
  },
  {
   "cell_type": "code",
   "execution_count": 10,
   "id": "b6299652",
   "metadata": {},
   "outputs": [
    {
     "name": "stdout",
     "output_type": "stream",
     "text": [
      "apple\n",
      "banana\n",
      "orange\n"
     ]
    }
   ],
   "source": [
    "fruits = ['apple', 'banana', 'orange']\n",
    "for fruit in fruits:\n",
    "    print(fruit)"
   ]
  },
  {
   "cell_type": "markdown",
   "id": "8ac9b613",
   "metadata": {},
   "source": [
    "## Example 2: Iterate over a string using a for loop"
   ]
  },
  {
   "cell_type": "code",
   "execution_count": 11,
   "id": "03d2d43d",
   "metadata": {},
   "outputs": [
    {
     "name": "stdout",
     "output_type": "stream",
     "text": [
      "P\n",
      "y\n",
      "t\n",
      "h\n",
      "o\n",
      "n\n"
     ]
    }
   ],
   "source": [
    "text = 'Python'\n",
    "for char in text:\n",
    "    print(char)"
   ]
  },
  {
   "cell_type": "markdown",
   "id": "0abadaec",
   "metadata": {},
   "source": [
    "## Example 3: Iterate over a range using a for loop"
   ]
  },
  {
   "cell_type": "code",
   "execution_count": 12,
   "id": "84aefd60",
   "metadata": {},
   "outputs": [
    {
     "name": "stdout",
     "output_type": "stream",
     "text": [
      "1\n",
      "2\n"
     ]
    }
   ],
   "source": [
    "for I in range(1, 3):\n",
    "    print(I)"
   ]
  },
  {
   "cell_type": "markdown",
   "id": "a40261fa",
   "metadata": {},
   "source": [
    "## Example 4: Iterate over a dictionary using a for loop (by default, it iterates over the keys)"
   ]
  },
  {
   "cell_type": "code",
   "execution_count": 15,
   "id": "eb464e24",
   "metadata": {},
   "outputs": [
    {
     "name": "stdout",
     "output_type": "stream",
     "text": [
      "name Alice\n",
      "age 30\n",
      "city New York\n"
     ]
    }
   ],
   "source": [
    "my_dict = {'name': 'Alice', 'age': 30, 'city': 'New York'}\n",
    "for key in my_dict:\n",
    "    print(key, my_dict[key])"
   ]
  },
  {
   "cell_type": "markdown",
   "id": "dbe5bc92",
   "metadata": {},
   "source": [
    "### 1: Write a Python program to print the numbers from 1 to 10 using a for loop."
   ]
  },
  {
   "cell_type": "code",
   "execution_count": 1,
   "id": "782856bf",
   "metadata": {},
   "outputs": [
    {
     "name": "stdout",
     "output_type": "stream",
     "text": [
      "1\n",
      "2\n",
      "3\n",
      "4\n",
      "5\n",
      "6\n",
      "7\n",
      "8\n",
      "9\n",
      "10\n"
     ]
    }
   ],
   "source": [
    "for num in range(1, 11):\n",
    "    print(num)"
   ]
  },
  {
   "cell_type": "markdown",
   "id": "4c354b42",
   "metadata": {},
   "source": [
    "### 2: Write a Python program to calculate the sum of all the numbers from 1 to 100 using a for loop."
   ]
  },
  {
   "cell_type": "code",
   "execution_count": 17,
   "id": "6ae72001",
   "metadata": {},
   "outputs": [
    {
     "name": "stdout",
     "output_type": "stream",
     "text": [
      "5050\n"
     ]
    }
   ],
   "source": [
    "sum_of_numbers = 0\n",
    "for i in range(1, 101):\n",
    "    sum_of_numbers += i\n",
    "print(sum_of_numbers)"
   ]
  },
  {
   "cell_type": "markdown",
   "id": "5925bb24",
   "metadata": {},
   "source": [
    "### 3: Write a Python program to find the factorial of a given number using a for loop."
   ]
  },
  {
   "cell_type": "code",
   "execution_count": 26,
   "id": "cf495775",
   "metadata": {},
   "outputs": [
    {
     "name": "stdout",
     "output_type": "stream",
     "text": [
      "120\n"
     ]
    }
   ],
   "source": [
    "def factorial(n):\n",
    "    result = 1\n",
    "    for i in range (1,n+1):\n",
    "        result *=i\n",
    "    return result\n",
    "number = 5\n",
    "print(factorial(number))"
   ]
  },
  {
   "cell_type": "code",
   "execution_count": 1,
   "id": "d3cb6457",
   "metadata": {},
   "outputs": [
    {
     "name": "stdout",
     "output_type": "stream",
     "text": [
      "120\n"
     ]
    }
   ],
   "source": [
    "result = 1\n",
    "for i in range (1,6):\n",
    "    result *= i\n",
    "print(result)"
   ]
  },
  {
   "cell_type": "markdown",
   "id": "0d09f1ce",
   "metadata": {},
   "source": [
    "### 4: Write a Python program to find the largest element in a list using a for loop."
   ]
  },
  {
   "cell_type": "code",
   "execution_count": 30,
   "id": "9318566d",
   "metadata": {},
   "outputs": [
    {
     "name": "stdout",
     "output_type": "stream",
     "text": [
      "30\n"
     ]
    }
   ],
   "source": [
    "def find_largest_element(lst):\n",
    "    largest = lst[0]\n",
    "    for num in lst:\n",
    "        if num > largest:\n",
    "            largest = num\n",
    "    return largest\n",
    "\n",
    "my_list = [10, 5, 20, 15, 30]\n",
    "print(find_largest_element(my_list))               # Output: 30"
   ]
  },
  {
   "cell_type": "code",
   "execution_count": 34,
   "id": "6e1c9728",
   "metadata": {},
   "outputs": [
    {
     "name": "stdout",
     "output_type": "stream",
     "text": [
      "The largest element in the list is: 9\n"
     ]
    }
   ],
   "source": [
    "my_list = [2,5,4,3,8,9]\n",
    "\n",
    "largest = my_list[0]                   # Initialize the largest variable with the first element of the list\n",
    "\n",
    "for num in my_list:                    # Iterate over the list to find the largest element\n",
    "    if num > largest:\n",
    "        largest = num\n",
    "\n",
    "print(\"The largest element in the list is:\", largest)"
   ]
  },
  {
   "cell_type": "code",
   "execution_count": 1,
   "id": "45208814",
   "metadata": {},
   "outputs": [
    {
     "name": "stdout",
     "output_type": "stream",
     "text": [
      "9\n"
     ]
    }
   ],
   "source": [
    "l1 = [1,2,5,6,4,2,3,9,1,2,5,4,6,2,3]\n",
    "max_value = max(l1)\n",
    "print(max_value)"
   ]
  },
  {
   "cell_type": "markdown",
   "id": "436844a0",
   "metadata": {},
   "source": [
    "##### find secound largest element ?"
   ]
  },
  {
   "cell_type": "code",
   "execution_count": 1,
   "id": "fe6ae992",
   "metadata": {},
   "outputs": [
    {
     "name": "stdout",
     "output_type": "stream",
     "text": [
      "9\n",
      "4\n"
     ]
    }
   ],
   "source": [
    "my_list = [2,5,4,3,8,9]\n",
    "largest = my_list[0] \n",
    "secound_largest = my_list[0]\n",
    "for num in my_list:\n",
    "    if num > largest:\n",
    "        largest = num\n",
    "    if num > secound_largest and num != largest:\n",
    "        secound_largest = num\n",
    "print(largest)\n",
    "print(secound_largest)"
   ]
  },
  {
   "cell_type": "markdown",
   "id": "5933a884",
   "metadata": {},
   "source": [
    "### 5: Write a Python program to count the number of vowels in a string using a for loop."
   ]
  },
  {
   "cell_type": "code",
   "execution_count": 35,
   "id": "7d4ef775",
   "metadata": {},
   "outputs": [
    {
     "name": "stdout",
     "output_type": "stream",
     "text": [
      "3\n"
     ]
    }
   ],
   "source": [
    "def count_vowels(text):\n",
    "    vowels = \"AEIOUaeiou\"\n",
    "    count = 0\n",
    "    for char in text:\n",
    "        if char in vowels:\n",
    "            count += 1\n",
    "    return count\n",
    "\n",
    "my_string = \"Hello, World!\"\n",
    "print(count_vowels(my_string))                        # Output: 3"
   ]
  },
  {
   "cell_type": "code",
   "execution_count": 1,
   "id": "49538acd",
   "metadata": {},
   "outputs": [
    {
     "name": "stdout",
     "output_type": "stream",
     "text": [
      "3\n"
     ]
    }
   ],
   "source": [
    "text = \"aakash\"\n",
    "vowels = \"aeiouAEIOU\"\n",
    "count = 0\n",
    "\n",
    "for char in text:\n",
    "    if char in vowels:\n",
    "        count += 1\n",
    "print(count)"
   ]
  },
  {
   "cell_type": "markdown",
   "id": "c708172a",
   "metadata": {},
   "source": [
    "### 6: Write a Python program to check if a given number is prime using a for loop."
   ]
  },
  {
   "cell_type": "code",
   "execution_count": 38,
   "id": "1095e9f4",
   "metadata": {},
   "outputs": [
    {
     "name": "stdout",
     "output_type": "stream",
     "text": [
      "True\n"
     ]
    }
   ],
   "source": [
    "def is_prime(num):\n",
    "    if num < 2:\n",
    "        return False\n",
    "    for i in range(2, int(num ** 0.5) + 1):\n",
    "        if num % i == 0:\n",
    "            return False\n",
    "    return True\n",
    "\n",
    "number = 17\n",
    "print(is_prime(number))                           # Output: True"
   ]
  },
  {
   "cell_type": "markdown",
   "id": "cadb90ee",
   "metadata": {},
   "source": [
    "### 7: Write a Python program to remove duplicates from a list using a for loop."
   ]
  },
  {
   "cell_type": "code",
   "execution_count": 42,
   "id": "b8ef4e2a",
   "metadata": {},
   "outputs": [
    {
     "name": "stdout",
     "output_type": "stream",
     "text": [
      "[1, 2, 3, 4, 5]\n"
     ]
    }
   ],
   "source": [
    "def remove_duplicates(lst):\n",
    "    unique_list = []\n",
    "    for item in lst:\n",
    "        if item not in unique_list:\n",
    "            unique_list.append(item)\n",
    "    return unique_list\n",
    "\n",
    "my_list = [1, 2, 2, 3, 4, 4, 5]\n",
    "print(remove_duplicates(my_list))                 # Output: [1, 2, 3, 4, 5]"
   ]
  },
  {
   "cell_type": "code",
   "execution_count": 2,
   "id": "09e0f536",
   "metadata": {},
   "outputs": [
    {
     "name": "stdout",
     "output_type": "stream",
     "text": [
      "[5, 2, 3, 4, 6]\n"
     ]
    }
   ],
   "source": [
    "my_list = [5,2,3,4,6,5,2,3]\n",
    "unique_list = []\n",
    "for item in my_list:\n",
    "    if item not in unique_list:\n",
    "        unique_list.append(item)\n",
    "print(unique_list)"
   ]
  },
  {
   "cell_type": "code",
   "execution_count": 2,
   "id": "fdd691e4",
   "metadata": {},
   "outputs": [
    {
     "name": "stdout",
     "output_type": "stream",
     "text": [
      "[1, 2, 3, 4, 5, 6, 8, 9]\n"
     ]
    }
   ],
   "source": [
    "l1 = [1,2,5,4,6,5,8,9,5,6,4,2,3,1,1]\n",
    "unique_list = list(set(l1))\n",
    "print(unique_list)"
   ]
  },
  {
   "cell_type": "markdown",
   "id": "12d3580f",
   "metadata": {},
   "source": [
    "### 8: Write a Python program to find the common elements between two lists using a for loop."
   ]
  },
  {
   "cell_type": "code",
   "execution_count": 43,
   "id": "28c8ced6",
   "metadata": {},
   "outputs": [
    {
     "name": "stdout",
     "output_type": "stream",
     "text": [
      "[3, 4, 5]\n"
     ]
    }
   ],
   "source": [
    "def find_common_elements(list1, list2):\n",
    "    common_elements = []\n",
    "    for item in list1:\n",
    "        if item in list2:\n",
    "            common_elements.append(item)\n",
    "    return common_elements\n",
    "\n",
    "list1 = [1, 2, 3, 4, 5]\n",
    "list2 = [3, 4, 5, 6, 7]\n",
    "print(find_common_elements(list1, list2))            # Output: [3, 4, 5]"
   ]
  },
  {
   "cell_type": "code",
   "execution_count": 3,
   "id": "1ad6d952",
   "metadata": {},
   "outputs": [
    {
     "name": "stdout",
     "output_type": "stream",
     "text": [
      "[25, 81, 64, 8, 16]\n"
     ]
    }
   ],
   "source": [
    "l1 = [25,49,81,64,36,8,16,9]\n",
    "l2 = [64,8,16,81,25]\n",
    "common_element = []\n",
    "for item in l1:\n",
    "    if item in l2:\n",
    "        common_element.append(item)\n",
    "print(common_element)"
   ]
  },
  {
   "cell_type": "code",
   "execution_count": null,
   "id": "87b8c4b5",
   "metadata": {},
   "outputs": [],
   "source": []
  },
  {
   "cell_type": "markdown",
   "id": "09779446",
   "metadata": {},
   "source": [
    "### 9: Write a Python program to print the Fibonacci series up to a given number using a for loop."
   ]
  },
  {
   "cell_type": "code",
   "execution_count": 44,
   "id": "5f700e28",
   "metadata": {},
   "outputs": [
    {
     "name": "stdout",
     "output_type": "stream",
     "text": [
      "[0, 1, 1, 2, 3, 5, 8, 13]\n"
     ]
    }
   ],
   "source": [
    "def fibonacci_series(n):\n",
    "    fib_series = [0, 1]\n",
    "    for i in range(2, n):\n",
    "        next_num = fib_series[-1] + fib_series[-2]\n",
    "        if next_num <= n:\n",
    "            fib_series.append(next_num)\n",
    "        else:\n",
    "            break\n",
    "    return fib_series\n",
    "\n",
    "number = 20\n",
    "print(fibonacci_series(number))                   # Output: [0, 1, 1, 2, 3, 5, 8, 13]"
   ]
  },
  {
   "cell_type": "markdown",
   "id": "45dd5a7c",
   "metadata": {},
   "source": [
    "### 10: Write a Python program to find the average of numbers in a list using a for loop."
   ]
  },
  {
   "cell_type": "code",
   "execution_count": 45,
   "id": "88381950",
   "metadata": {},
   "outputs": [
    {
     "name": "stdout",
     "output_type": "stream",
     "text": [
      "30.0\n"
     ]
    }
   ],
   "source": [
    "def calculate_average(lst):\n",
    "    total = 0\n",
    "    for num in lst:\n",
    "        total += num\n",
    "    return total / len(lst)\n",
    "\n",
    "my_list = [10, 20, 30, 40, 50]\n",
    "print(calculate_average(my_list))                 # Output: 30.0"
   ]
  },
  {
   "cell_type": "code",
   "execution_count": 4,
   "id": "d835185c",
   "metadata": {},
   "outputs": [
    {
     "name": "stdout",
     "output_type": "stream",
     "text": [
      "The average is: 4.5\n"
     ]
    }
   ],
   "source": [
    "my_list = [0,1,2,3,4,5,6,7,8,9]\n",
    "total = 0\n",
    "\n",
    "for num in my_list:\n",
    "    total += num\n",
    "\n",
    "average = total / len(my_list)\n",
    "\n",
    "print(f\"The average is: {average}\")"
   ]
  },
  {
   "cell_type": "markdown",
   "id": "e5bb07c7",
   "metadata": {},
   "source": [
    "## 11.Checking if list is empty or not ?"
   ]
  },
  {
   "cell_type": "code",
   "execution_count": 4,
   "id": "5798aaf3",
   "metadata": {},
   "outputs": [
    {
     "name": "stdout",
     "output_type": "stream",
     "text": [
      "list is empty !\n"
     ]
    }
   ],
   "source": [
    "my_list = []\n",
    "if not my_list:\n",
    "    print(\"list is empty !\")"
   ]
  },
  {
   "cell_type": "code",
   "execution_count": 5,
   "id": "dc409266",
   "metadata": {},
   "outputs": [
    {
     "name": "stdout",
     "output_type": "stream",
     "text": [
      "l1 is not empty\n"
     ]
    }
   ],
   "source": [
    "l1 = [{( )}]\n",
    "if not l1 :\n",
    "    print(\"l1 is empty\")\n",
    "else :\n",
    "    print(\"l1 is not empty\")"
   ]
  },
  {
   "cell_type": "code",
   "execution_count": 8,
   "id": "016857f1",
   "metadata": {},
   "outputs": [
    {
     "name": "stdout",
     "output_type": "stream",
     "text": [
      "List is empty\n"
     ]
    }
   ],
   "source": [
    "my_list = []\n",
    "if len(my_list) == 0:\n",
    "    print(\"List is empty\")\n",
    "else:\n",
    "    print(\"List is not empty\")"
   ]
  },
  {
   "cell_type": "code",
   "execution_count": 9,
   "id": "c33175a7",
   "metadata": {},
   "outputs": [
    {
     "name": "stdout",
     "output_type": "stream",
     "text": [
      "List is empty\n"
     ]
    }
   ],
   "source": [
    "my_list = []\n",
    "if bool(my_list):\n",
    "    print(\"List is not empty\")\n",
    "else:\n",
    "    print(\"List is empty\")"
   ]
  },
  {
   "cell_type": "markdown",
   "id": "e4b21ac6",
   "metadata": {},
   "source": [
    "## 12.counting frequency of number in list ?"
   ]
  },
  {
   "cell_type": "code",
   "execution_count": 1,
   "id": "9efbc28d",
   "metadata": {},
   "outputs": [
    {
     "name": "stdout",
     "output_type": "stream",
     "text": [
      "Number 1 appears 1 times\n",
      "Number 2 appears 2 times\n",
      "Number 3 appears 3 times\n",
      "Number 4 appears 4 times\n"
     ]
    }
   ],
   "source": [
    "numbers = [1, 2, 2, 3, 3, 3, 4, 4, 4, 4]\n",
    "frequency = {}\n",
    "for number in numbers:\n",
    "  \n",
    "    if number in frequency:\n",
    "        frequency[number] += 1\n",
    "    else:\n",
    "        frequency[number] = 1\n",
    "\n",
    "for number, count in frequency.items():\n",
    "    print(f\"Number {number} appears {count} times\")"
   ]
  },
  {
   "cell_type": "code",
   "execution_count": 2,
   "id": "54eba4ee",
   "metadata": {},
   "outputs": [
    {
     "name": "stdout",
     "output_type": "stream",
     "text": [
      "Number 1 appears 1 times\n",
      "Number 2 appears 2 times\n",
      "Number 3 appears 3 times\n",
      "Number 4 appears 4 times\n"
     ]
    }
   ],
   "source": [
    "numbers = [1, 2, 2, 3, 3, 3, 4, 4, 4, 4]\n",
    "frequency = {}\n",
    "for number in numbers:\n",
    "    frequency[number] = frequency.get(number, 0) + 1\n",
    "\n",
    "for number, count in frequency.items():\n",
    "    print(f\"Number {number} appears {count} times\")"
   ]
  },
  {
   "cell_type": "code",
   "execution_count": 4,
   "id": "c5446cce",
   "metadata": {},
   "outputs": [
    {
     "name": "stdout",
     "output_type": "stream",
     "text": [
      "Counter({3: 4, 2: 3, 1: 2})\n"
     ]
    }
   ],
   "source": [
    "from collections import Counter\n",
    "\n",
    "l5 = [1, 1, 2, 2, 2, 3, 3, 3, 3]\n",
    "count = Counter(l5)\n",
    "print(count)"
   ]
  },
  {
   "cell_type": "code",
   "execution_count": null,
   "id": "bddf84f7",
   "metadata": {},
   "outputs": [],
   "source": []
  }
 ],
 "metadata": {
  "kernelspec": {
   "display_name": "Python 3 (ipykernel)",
   "language": "python",
   "name": "python3"
  },
  "language_info": {
   "codemirror_mode": {
    "name": "ipython",
    "version": 3
   },
   "file_extension": ".py",
   "mimetype": "text/x-python",
   "name": "python",
   "nbconvert_exporter": "python",
   "pygments_lexer": "ipython3",
   "version": "3.9.12"
  }
 },
 "nbformat": 4,
 "nbformat_minor": 5
}
