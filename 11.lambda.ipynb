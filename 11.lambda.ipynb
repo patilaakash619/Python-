{
 "cells": [
  {
   "cell_type": "code",
   "execution_count": null,
   "id": "43f16bf6",
   "metadata": {},
   "outputs": [],
   "source": [
    "Lambda Function : An anonymous function is known as lambda function, the function can have any number of parameters but ,\n",
    "    can have just one statement.lambda function is defined using the 'lambda' keyword, followed by a list of parameters,\n",
    "    a colon, and an expression.\n",
    "    syntax : lambda parameters: expression"
   ]
  },
  {
   "cell_type": "markdown",
   "id": "671a3d3d",
   "metadata": {},
   "source": [
    "### 1.Create a list of squares of numbers from 1 to 10 using lambda function ?"
   ]
  },
  {
   "cell_type": "code",
   "execution_count": 1,
   "id": "04fbbcda",
   "metadata": {},
   "outputs": [
    {
     "name": "stdout",
     "output_type": "stream",
     "text": [
      "25\n"
     ]
    }
   ],
   "source": [
    "square = lambda x: x**2\n",
    "print(square(5)) "
   ]
  },
  {
   "cell_type": "code",
   "execution_count": 2,
   "id": "2f1559a2",
   "metadata": {},
   "outputs": [
    {
     "name": "stdout",
     "output_type": "stream",
     "text": [
      "[1, 4, 9, 16, 25, 36, 49, 64, 81, 100]\n"
     ]
    }
   ],
   "source": [
    "squares_list = list(map(lambda x: x**2, range(1, 11)))\n",
    "print(squares_list)"
   ]
  },
  {
   "cell_type": "code",
   "execution_count": 5,
   "id": "8208ae29",
   "metadata": {},
   "outputs": [
    {
     "name": "stdout",
     "output_type": "stream",
     "text": [
      "[1, 8, 27, 64, 125, 216, 343, 512, 729, 1000]\n"
     ]
    }
   ],
   "source": [
    "cube_list = list(map(lambda x: x**3, range(1, 11)))\n",
    "print(cube_list)"
   ]
  },
  {
   "cell_type": "markdown",
   "id": "eb7c8757",
   "metadata": {},
   "source": [
    "### 2.Given a list of numbers, create a new list containing only the even numbers using lambda function ?"
   ]
  },
  {
   "cell_type": "code",
   "execution_count": 1,
   "id": "e620b179",
   "metadata": {},
   "outputs": [
    {
     "name": "stdout",
     "output_type": "stream",
     "text": [
      "[0, 2, 4, 6, 8, 10]\n"
     ]
    }
   ],
   "source": [
    "l1 = [0, 1, 2, 3, 4, 5, 6, 7, 8, 9, 10]\n",
    "even_numbers = list(filter(lambda x: x % 2 == 0, l1))\n",
    "print(even_numbers)"
   ]
  },
  {
   "cell_type": "code",
   "execution_count": 6,
   "id": "dec20c96",
   "metadata": {},
   "outputs": [
    {
     "name": "stdout",
     "output_type": "stream",
     "text": [
      "[1, 3, 5, 7, 9]\n"
     ]
    }
   ],
   "source": [
    "l1 = [0, 1, 2, 3, 4, 5, 6, 7, 8, 9, 10]\n",
    "odd_numbers = list(filter(lambda x : x % 2 != 0 , l1))\n",
    "print(odd_numbers)"
   ]
  },
  {
   "cell_type": "markdown",
   "id": "e78d9021",
   "metadata": {},
   "source": [
    "### 3.Convert a list of strings to a list of their lengths using lambda function ?"
   ]
  },
  {
   "cell_type": "code",
   "execution_count": 7,
   "id": "e77fe858",
   "metadata": {},
   "outputs": [
    {
     "name": "stdout",
     "output_type": "stream",
     "text": [
      "[5, 6, 6, 4]\n"
     ]
    }
   ],
   "source": [
    "words = ['apple', 'banana', 'orange', 'kiwi']\n",
    "lengths = list(map(lambda word: len(word), words))\n",
    "print(lengths)"
   ]
  },
  {
   "cell_type": "markdown",
   "id": "bab39dd7",
   "metadata": {},
   "source": [
    "### 4.Given a list of numbers, create a new list that contains only the positive numbers using lambda function ?"
   ]
  },
  {
   "cell_type": "code",
   "execution_count": 8,
   "id": "b1286c56",
   "metadata": {},
   "outputs": [
    {
     "name": "stdout",
     "output_type": "stream",
     "text": [
      "[10, 15, 20]\n"
     ]
    }
   ],
   "source": [
    "numbers = [10, -5, 15, -8, 20, -3]\n",
    "positive_numbers = list(filter(lambda x: x > 0, numbers))\n",
    "print(positive_numbers)"
   ]
  },
  {
   "cell_type": "markdown",
   "id": "06283bf0",
   "metadata": {},
   "source": [
    "### 5.Create a list of all possible pairs of numbers from two lists using lambda function ?"
   ]
  },
  {
   "cell_type": "code",
   "execution_count": 10,
   "id": "b71025e6",
   "metadata": {},
   "outputs": [
    {
     "name": "stdout",
     "output_type": "stream",
     "text": [
      "[(1, 'a'), (1, 'b'), (2, 'a'), (2, 'b'), (3, 'a'), (3, 'b')]\n"
     ]
    }
   ],
   "source": [
    "list1 = [1, 2, 3]\n",
    "list2 = ['a', 'b']\n",
    "pairs = list(map(lambda x: (x[0], x[1]), [(i, j) for i in list1 for j in list2]))\n",
    "print(pairs)"
   ]
  },
  {
   "cell_type": "code",
   "execution_count": 11,
   "id": "c2ad315b",
   "metadata": {},
   "outputs": [
    {
     "name": "stdout",
     "output_type": "stream",
     "text": [
      "[(1, 'a'), (2, 'b'), (3, 'c')]\n"
     ]
    }
   ],
   "source": [
    "list1 = [1, 2, 3]\n",
    "list2 = ['a', 'b', 'c']\n",
    "pairs = list(map(lambda x, y: (x, y), list1, list2))\n",
    "print(pairs)"
   ]
  },
  {
   "cell_type": "markdown",
   "id": "f0e246e4",
   "metadata": {},
   "source": [
    "### 6.Given a list of words, create a new list that contains the words with more than 5 characters using lambda function ?"
   ]
  },
  {
   "cell_type": "code",
   "execution_count": 15,
   "id": "da637210",
   "metadata": {},
   "outputs": [
    {
     "name": "stdout",
     "output_type": "stream",
     "text": [
      "[6, 6]\n"
     ]
    }
   ],
   "source": [
    "words = ['apple', 'banana', 'orange', 'kiwi', 'grape']\n",
    "lengths = list(map(lambda word: len(word), filter(lambda word: len(word) > 5, words)))\n",
    "print(lengths)"
   ]
  },
  {
   "cell_type": "code",
   "execution_count": 16,
   "id": "0c982a30",
   "metadata": {},
   "outputs": [
    {
     "name": "stdout",
     "output_type": "stream",
     "text": [
      "['banana', 'orange']\n"
     ]
    }
   ],
   "source": [
    "words = ['apple', 'banana', 'orange', 'kiwi', 'grape']\n",
    "filtered_words = list(filter(lambda word: len(word) > 5, words))\n",
    "print(filtered_words)"
   ]
  },
  {
   "cell_type": "markdown",
   "id": "3ee8d321",
   "metadata": {},
   "source": [
    "### 7.Create a list of the first 10 multiples of 3 using lambda function ?"
   ]
  },
  {
   "cell_type": "code",
   "execution_count": 17,
   "id": "b5d5b99c",
   "metadata": {},
   "outputs": [
    {
     "name": "stdout",
     "output_type": "stream",
     "text": [
      "[3, 6, 9, 12, 15, 18, 21, 24, 27, 30]\n"
     ]
    }
   ],
   "source": [
    "multiples_of_3 = list(map(lambda x: x * 3, range(1, 11)))\n",
    "print(multiples_of_3)"
   ]
  },
  {
   "cell_type": "markdown",
   "id": "0ab52660",
   "metadata": {},
   "source": [
    "### 8.Given a list of numbers, create a new list that contains the square root of each number using lambda function ?"
   ]
  },
  {
   "cell_type": "code",
   "execution_count": 18,
   "id": "65baa441",
   "metadata": {},
   "outputs": [
    {
     "name": "stdout",
     "output_type": "stream",
     "text": [
      "[3.0, 4.0, 5.0, 6.0, 7.0]\n"
     ]
    }
   ],
   "source": [
    "import math\n",
    "\n",
    "numbers = [9, 16, 25, 36, 49]\n",
    "square_roots = list(map(lambda x: math.sqrt(x), numbers))\n",
    "print(square_roots)"
   ]
  },
  {
   "cell_type": "markdown",
   "id": "76fc8322",
   "metadata": {},
   "source": [
    "### 9.Create a list of all the uppercase letters in the English alphabet using lambda function ?"
   ]
  },
  {
   "cell_type": "code",
   "execution_count": 19,
   "id": "42900605",
   "metadata": {},
   "outputs": [
    {
     "name": "stdout",
     "output_type": "stream",
     "text": [
      "['A', 'B', 'C', 'D', 'E', 'F', 'G', 'H', 'I', 'J', 'K', 'L', 'M', 'N', 'O', 'P', 'Q', 'R', 'S', 'T', 'U', 'V', 'W', 'X', 'Y', 'Z']\n"
     ]
    }
   ],
   "source": [
    "uppercase_letters = list(map(lambda x: chr(x), range(ord('A'), ord('Z') + 1)))\n",
    "print(uppercase_letters)"
   ]
  },
  {
   "cell_type": "code",
   "execution_count": 21,
   "id": "9641431c",
   "metadata": {},
   "outputs": [
    {
     "name": "stdout",
     "output_type": "stream",
     "text": [
      "['a', 'b', 'c', 'd', 'e', 'f', 'g', 'h', 'i', 'j', 'k', 'l', 'm', 'n', 'o', 'p', 'q', 'r', 's', 't', 'u', 'v', 'w', 'x', 'y', 'z']\n"
     ]
    }
   ],
   "source": [
    "# Using lambda function and map to get uppercase letters\n",
    "lowercase_letters = list(map(lambda x: chr(x), range(ord('a'), ord('z') + 1)))\n",
    "print(lowercase_letters)"
   ]
  },
  {
   "cell_type": "markdown",
   "id": "7fcc4047",
   "metadata": {},
   "source": [
    "### 10.Given a list of strings, create a new list that contains the strings with the letter 'a' in them using lambda function ?"
   ]
  },
  {
   "cell_type": "code",
   "execution_count": 23,
   "id": "3f1fd0ba",
   "metadata": {},
   "outputs": [
    {
     "name": "stdout",
     "output_type": "stream",
     "text": [
      "['apple', 'banana', 'orange', 'grape']\n"
     ]
    }
   ],
   "source": [
    "words = ['apple', 'banana', 'orange', 'kiwi', 'grape']\n",
    "filtered_words = list(filter(lambda word: 'a' in word, words))\n",
    "print(filtered_words)"
   ]
  },
  {
   "cell_type": "markdown",
   "id": "4b775a45",
   "metadata": {},
   "source": [
    "### 11.Convert a list of strings to uppercase using lambda function ?"
   ]
  },
  {
   "cell_type": "code",
   "execution_count": 24,
   "id": "6a70ff32",
   "metadata": {},
   "outputs": [
    {
     "name": "stdout",
     "output_type": "stream",
     "text": [
      "['HELLO', 'WORLD', 'PYTHON']\n"
     ]
    }
   ],
   "source": [
    "words = ['hello', 'world', 'python']\n",
    "uppercase_words = list(map(lambda x: x.upper(), words))\n",
    "print(uppercase_words)"
   ]
  },
  {
   "cell_type": "markdown",
   "id": "5f25f1a3",
   "metadata": {},
   "source": [
    "### 12.Given a list of words, create a new list that contains the words starting with the letter 'a' using lambda function ?"
   ]
  },
  {
   "cell_type": "code",
   "execution_count": 25,
   "id": "de38ebcc",
   "metadata": {},
   "outputs": [
    {
     "name": "stdout",
     "output_type": "stream",
     "text": [
      "['apple']\n"
     ]
    }
   ],
   "source": [
    "words = ['apple', 'banana', 'orange', 'kiwi', 'grape']\n",
    "filtered_words = list(filter(lambda word: word.startswith('a'), words))\n",
    "print(filtered_words)"
   ]
  },
  {
   "cell_type": "markdown",
   "id": "c783709f",
   "metadata": {},
   "source": [
    "### 13.Create a list of the squares of even numbers from 1 to 10 using lambda function ?"
   ]
  },
  {
   "cell_type": "code",
   "execution_count": 26,
   "id": "41ed6da2",
   "metadata": {},
   "outputs": [
    {
     "name": "stdout",
     "output_type": "stream",
     "text": [
      "[4, 16, 36, 64, 100]\n"
     ]
    }
   ],
   "source": [
    "squares_of_evens = list(map(lambda x: x**2, filter(lambda x: x % 2 == 0, range(1, 11))))\n",
    "print(squares_of_evens)"
   ]
  },
  {
   "cell_type": "markdown",
   "id": "05c33a7a",
   "metadata": {},
   "source": [
    "### 14.Given a list of strings, create a new list that contains the strings with more than 3 characters and less than 6 characters using lambda function ?"
   ]
  },
  {
   "cell_type": "code",
   "execution_count": 27,
   "id": "156a901d",
   "metadata": {},
   "outputs": [
    {
     "name": "stdout",
     "output_type": "stream",
     "text": [
      "['apple', 'kiwi', 'grape']\n"
     ]
    }
   ],
   "source": [
    "words = ['apple', 'banana', 'orange', 'kiwi', 'grape']\n",
    "filtered_words = list(filter(lambda word: 3 < len(word) < 6, words))\n",
    "print(filtered_words)"
   ]
  },
  {
   "cell_type": "markdown",
   "id": "849d4a1f",
   "metadata": {},
   "source": [
    "### 15.Create a list of tuples containing the numbers and their squares, but only for even numbers using lambda function ?"
   ]
  },
  {
   "cell_type": "code",
   "execution_count": 28,
   "id": "f3c3d216",
   "metadata": {},
   "outputs": [
    {
     "name": "stdout",
     "output_type": "stream",
     "text": [
      "[(2, 4), (4, 16), (6, 36), (8, 64), (10, 100)]\n"
     ]
    }
   ],
   "source": [
    "even_squares = list(map(lambda x: (x, x**2), filter(lambda x: x % 2 == 0, range(1, 11))))\n",
    "print(even_squares)"
   ]
  },
  {
   "cell_type": "markdown",
   "id": "c8cb0b9b",
   "metadata": {},
   "source": [
    "### 16.Given two lists, create a new list that contains the sum of corresponding elements from both lists using lambda function ?"
   ]
  },
  {
   "cell_type": "code",
   "execution_count": 29,
   "id": "c7524724",
   "metadata": {},
   "outputs": [
    {
     "name": "stdout",
     "output_type": "stream",
     "text": [
      "[11, 22, 33, 44]\n"
     ]
    }
   ],
   "source": [
    "list1 = [1, 2, 3, 4]\n",
    "list2 = [10, 20, 30, 40]\n",
    "sums = list(map(lambda x, y: x + y, list1, list2))\n",
    "print(sums)"
   ]
  },
  {
   "cell_type": "markdown",
   "id": "1be6809a",
   "metadata": {},
   "source": [
    "### 17.Create a list of numbers from 1 to 100 that are divisible by both 3 and 5 using lambda function ?"
   ]
  },
  {
   "cell_type": "code",
   "execution_count": 30,
   "id": "a5291da4",
   "metadata": {},
   "outputs": [
    {
     "name": "stdout",
     "output_type": "stream",
     "text": [
      "[15, 30, 45, 60, 75, 90]\n"
     ]
    }
   ],
   "source": [
    "divisible_by_3_and_5 = list(filter(lambda x: x % 3 == 0 and x % 5 == 0, range(1, 101)))\n",
    "print(divisible_by_3_and_5)"
   ]
  },
  {
   "cell_type": "markdown",
   "id": "71c8ca29",
   "metadata": {},
   "source": [
    "### 18.Given a list of numbers, create a new list containing the absolute values of the numbers using lambda function ?"
   ]
  },
  {
   "cell_type": "code",
   "execution_count": 31,
   "id": "bd500a3d",
   "metadata": {},
   "outputs": [
    {
     "name": "stdout",
     "output_type": "stream",
     "text": [
      "[1, 2, 3, 4, 5]\n"
     ]
    }
   ],
   "source": [
    "numbers = [-1, -2, 3, -4, 5]\n",
    "absolute_values = list(map(lambda x: abs(x), numbers))\n",
    "print(absolute_values)"
   ]
  },
  {
   "cell_type": "markdown",
   "id": "db3359cb",
   "metadata": {},
   "source": [
    "### 19.Write a Python program to sort a list of tuples using Lambda ?"
   ]
  },
  {
   "cell_type": "code",
   "execution_count": 1,
   "id": "20119369",
   "metadata": {},
   "outputs": [
    {
     "name": "stdout",
     "output_type": "stream",
     "text": [
      "[(1, 5), (2, 8), (3, 2), (4, 1)]\n"
     ]
    }
   ],
   "source": [
    "list_of_tuples = [(1, 5), (3, 2), (2, 8), (4, 1)]             # based on the first element\n",
    "sort_list = sorted(list_of_tuples,key = lambda x : x[0])\n",
    "print(sort_list)"
   ]
  },
  {
   "cell_type": "code",
   "execution_count": 2,
   "id": "17b9a3a0",
   "metadata": {},
   "outputs": [
    {
     "name": "stdout",
     "output_type": "stream",
     "text": [
      "[(4, 1), (3, 2), (1, 5), (2, 8)]\n"
     ]
    }
   ],
   "source": [
    "list_of_tuples = [(1, 5), (3, 2), (2, 8), (4, 1)]             # based on the secound element\n",
    "sort_list = sorted(list_of_tuples,key = lambda x : x[1])\n",
    "print(sort_list)"
   ]
  },
  {
   "cell_type": "markdown",
   "id": "8636892b",
   "metadata": {},
   "source": [
    "### 20.Write a Python program to sort a list of dictionaries using Lambda ?"
   ]
  },
  {
   "cell_type": "code",
   "execution_count": 3,
   "id": "55b993ef",
   "metadata": {},
   "outputs": [
    {
     "name": "stdout",
     "output_type": "stream",
     "text": [
      "[{'name': 'bhushan', 'age': 25}, {'name': 'praful', 'age': 27}, {'name': 'aakash', 'age': 28}, {'name': 'chetan', 'age': 28}]\n"
     ]
    }
   ],
   "source": [
    "list_of_dict = [{'name' : 'aakash','age':28},\n",
    "               {'name' : 'bhushan','age':25},\n",
    "               {'name' : 'praful','age':27},\n",
    "               {'name' : 'chetan','age':28}]\n",
    "sort_dict = sorted(list_of_dict,key =lambda x :x['age'])\n",
    "print(sort_dict)"
   ]
  },
  {
   "cell_type": "markdown",
   "id": "9a742fc2",
   "metadata": {},
   "source": []
  },
  {
   "cell_type": "code",
   "execution_count": null,
   "id": "d917af8c",
   "metadata": {},
   "outputs": [],
   "source": []
  }
 ],
 "metadata": {
  "kernelspec": {
   "display_name": "Python 3 (ipykernel)",
   "language": "python",
   "name": "python3"
  },
  "language_info": {
   "codemirror_mode": {
    "name": "ipython",
    "version": 3
   },
   "file_extension": ".py",
   "mimetype": "text/x-python",
   "name": "python",
   "nbconvert_exporter": "python",
   "pygments_lexer": "ipython3",
   "version": "3.9.12"
  }
 },
 "nbformat": 4,
 "nbformat_minor": 5
}
