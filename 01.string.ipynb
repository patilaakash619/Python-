{
 "cells": [
  {
   "cell_type": "markdown",
   "id": "d0b1702d",
   "metadata": {},
   "source": [
    "# string"
   ]
  },
  {
   "cell_type": "code",
   "execution_count": 1,
   "id": "50faca74",
   "metadata": {},
   "outputs": [
    {
     "name": "stdout",
     "output_type": "stream",
     "text": [
      "data science and 'machine learning'\n"
     ]
    }
   ],
   "source": [
    "# Escape char (\\')\n",
    "string = 'data science and \\'machine learning\\'' \n",
    "print(string)"
   ]
  },
  {
   "cell_type": "code",
   "execution_count": 2,
   "id": "81d9037e",
   "metadata": {},
   "outputs": [
    {
     "name": "stdout",
     "output_type": "stream",
     "text": [
      "my name is aakash patil \n",
      " and \n",
      "i am learning machine learning and deep learning\n"
     ]
    }
   ],
   "source": [
    "# used for new line (\\n)\n",
    "string=\"my name is aakash patil \\n and \\ni am learning machine learning and deep learning\"\n",
    "print(string)"
   ]
  },
  {
   "cell_type": "code",
   "execution_count": 3,
   "id": "19087d2b",
   "metadata": {},
   "outputs": [
    {
     "name": "stdout",
     "output_type": "stream",
     "text": [
      "i am learning machine learning \\deep learning \\ natural language processing\n"
     ]
    }
   ],
   "source": [
    "# backward slash (\\)\n",
    "string =\"i am learning machine learning \\deep learning \\ natural language processing\"\n",
    "print(string)"
   ]
  },
  {
   "cell_type": "code",
   "execution_count": 4,
   "id": "6a3a7718",
   "metadata": {},
   "outputs": [
    {
     "name": "stdout",
     "output_type": "stream",
     "text": [
      "The \t sun \t shines.\n",
      "Cats\t meow \t loudly.\n",
      "Birds \t fly\t high.\n"
     ]
    }
   ],
   "source": [
    "# backward slash (\\) + (\\t) will leave space and give output in tabular form.\n",
    "str1=\"The \\t sun \\t shines.\"\n",
    "str2=\"Cats\\t meow \\t loudly.\"\n",
    "str3=\"Birds \\t fly\\t high.\"\n",
    "print(str1)\n",
    "print(str2)\n",
    "print(str3)"
   ]
  },
  {
   "cell_type": "code",
   "execution_count": 5,
   "id": "05e8d3dd",
   "metadata": {},
   "outputs": [
    {
     "name": "stdout",
     "output_type": "stream",
     "text": [
      "aakashpatil5050\n"
     ]
    }
   ],
   "source": [
    "# concatecation :  to join 2 words ('+' operator used  concatenation, and it combines string1 and string2 to create a new string)\n",
    "str1=\"aakash\"\n",
    "str2=\"patil\"\n",
    "str3=5050\n",
    "string=str1+str2+str(str3)\n",
    "print(string)"
   ]
  },
  {
   "cell_type": "code",
   "execution_count": null,
   "id": "b7a757d7",
   "metadata": {},
   "outputs": [],
   "source": [
    "# addition '+' operator used  addition, and it adds the values of number1 and number2 to produce  sum, which is then printed as the result.\n",
    "number1 = 7\n",
    "number2 = 4\n",
    "sum_result = number1 + number2\n",
    "print(sum_result)"
   ]
  },
  {
   "cell_type": "markdown",
   "id": "83f3e46a",
   "metadata": {},
   "source": [
    "## string methods "
   ]
  },
  {
   "cell_type": "code",
   "execution_count": 6,
   "id": "d3e17dfc",
   "metadata": {},
   "outputs": [
    {
     "ename": "SyntaxError",
     "evalue": "invalid syntax (1139717330.py, line 1)",
     "output_type": "error",
     "traceback": [
      "\u001b[1;36m  Input \u001b[1;32mIn [6]\u001b[1;36m\u001b[0m\n\u001b[1;33m    1. capitalize\u001b[0m\n\u001b[1;37m       ^\u001b[0m\n\u001b[1;31mSyntaxError\u001b[0m\u001b[1;31m:\u001b[0m invalid syntax\n"
     ]
    }
   ],
   "source": [
    "1. capitalize \n",
    "2. upper \n",
    "3. lower\n",
    "4. title\n",
    "5. swapcase\n",
    "6. casefold\n",
    "7. rstrip\n",
    "8. lstrip\n",
    "9. strip\n",
    "10. replace\n",
    "11. count\n",
    "12. index\n",
    "13. find\n",
    "14. split\n",
    "15. join\n",
    "16. endswith\n",
    "17. startswith \n",
    "18. isalnum\n",
    "19. isalpha\n",
    "20. isdecimal \n",
    "21. isdigit \n",
    "22. isnumeric\n",
    "23. islower\n",
    "24. isupper\n",
    "25. istitle\n",
    "26. isspace\n",
    "27. zfill\n",
    "28. center"
   ]
  },
  {
   "cell_type": "code",
   "execution_count": null,
   "id": "1b53332e",
   "metadata": {},
   "outputs": [],
   "source": []
  },
  {
   "cell_type": "code",
   "execution_count": null,
   "id": "68f75321",
   "metadata": {},
   "outputs": [],
   "source": []
  },
  {
   "cell_type": "code",
   "execution_count": null,
   "id": "8ec3a304",
   "metadata": {},
   "outputs": [],
   "source": []
  },
  {
   "cell_type": "markdown",
   "id": "60637ab0",
   "metadata": {},
   "source": [
    "## 1. capitalize "
   ]
  },
  {
   "cell_type": "code",
   "execution_count": 30,
   "id": "2e463870",
   "metadata": {},
   "outputs": [
    {
     "data": {
      "text/plain": [
       "'Aakashpatil'"
      ]
     },
     "execution_count": 30,
     "metadata": {},
     "output_type": "execute_result"
    }
   ],
   "source": [
    "string=\"aakashpatil\"\n",
    "string.capitalize()"
   ]
  },
  {
   "cell_type": "markdown",
   "id": "46d2139b",
   "metadata": {},
   "source": [
    "## 2. upper "
   ]
  },
  {
   "cell_type": "code",
   "execution_count": 31,
   "id": "72d96ca4",
   "metadata": {},
   "outputs": [
    {
     "data": {
      "text/plain": [
       "'AAKASH PATIL'"
      ]
     },
     "execution_count": 31,
     "metadata": {},
     "output_type": "execute_result"
    }
   ],
   "source": [
    "string=\"aakash patil\"\n",
    "string.upper()"
   ]
  },
  {
   "cell_type": "markdown",
   "id": "777289aa",
   "metadata": {},
   "source": [
    "## 3. lower"
   ]
  },
  {
   "cell_type": "code",
   "execution_count": 32,
   "id": "c7978a89",
   "metadata": {},
   "outputs": [
    {
     "data": {
      "text/plain": [
       "'aaakash patil'"
      ]
     },
     "execution_count": 32,
     "metadata": {},
     "output_type": "execute_result"
    }
   ],
   "source": [
    "string=\"AAAKASH PATIL\"\n",
    "string.lower()"
   ]
  },
  {
   "cell_type": "markdown",
   "id": "5a8d1825",
   "metadata": {},
   "source": [
    "## 4. title"
   ]
  },
  {
   "cell_type": "code",
   "execution_count": 33,
   "id": "f133f6fd",
   "metadata": {},
   "outputs": [
    {
     "data": {
      "text/plain": [
       "'The Cat Chased The Mouse.'"
      ]
     },
     "execution_count": 33,
     "metadata": {},
     "output_type": "execute_result"
    }
   ],
   "source": [
    "string=\"the cat chased the mouse.\"\n",
    "string.title()"
   ]
  },
  {
   "cell_type": "markdown",
   "id": "74084baa",
   "metadata": {},
   "source": [
    "## 5. swapcase"
   ]
  },
  {
   "cell_type": "code",
   "execution_count": 34,
   "id": "6a5ad318",
   "metadata": {},
   "outputs": [
    {
     "data": {
      "text/plain": [
       "'tHE cAT cHASED tHE mOUSE'"
      ]
     },
     "execution_count": 34,
     "metadata": {},
     "output_type": "execute_result"
    }
   ],
   "source": [
    "string=\"The Cat Chased The Mouse\"\n",
    "string.swapcase()"
   ]
  },
  {
   "cell_type": "markdown",
   "id": "5b4bea48",
   "metadata": {},
   "source": [
    "## 6. casefold"
   ]
  },
  {
   "cell_type": "code",
   "execution_count": 35,
   "id": "11187f44",
   "metadata": {},
   "outputs": [
    {
     "data": {
      "text/plain": [
       "'aakash patil @@#'"
      ]
     },
     "execution_count": 35,
     "metadata": {},
     "output_type": "execute_result"
    }
   ],
   "source": [
    "string= \"AaKash Patil @@#\"\n",
    "string.casefold()  #converts all characters to lowercase and also handles certain special cases that are language-specific"
   ]
  },
  {
   "cell_type": "markdown",
   "id": "658714e8",
   "metadata": {},
   "source": [
    "## 7. rstrip"
   ]
  },
  {
   "cell_type": "code",
   "execution_count": 36,
   "id": "21e6e847",
   "metadata": {},
   "outputs": [
    {
     "data": {
      "text/plain": [
       "'       aakash patil'"
      ]
     },
     "execution_count": 36,
     "metadata": {},
     "output_type": "execute_result"
    }
   ],
   "source": [
    "name =\"       aakash patil    \"\n",
    "name.rstrip()            # remove spaces at end."
   ]
  },
  {
   "cell_type": "markdown",
   "id": "0bb2eaf4",
   "metadata": {},
   "source": [
    "## 8. lstrip"
   ]
  },
  {
   "cell_type": "code",
   "execution_count": 8,
   "id": "fa0aba88",
   "metadata": {},
   "outputs": [
    {
     "data": {
      "text/plain": [
       "'aakash patil    '"
      ]
     },
     "execution_count": 8,
     "metadata": {},
     "output_type": "execute_result"
    }
   ],
   "source": [
    "name =\"       aakash patil    \"\n",
    "name.lstrip()           # remove spaces at start."
   ]
  },
  {
   "cell_type": "markdown",
   "id": "5ebea7ef",
   "metadata": {},
   "source": [
    "## 9. strip"
   ]
  },
  {
   "cell_type": "code",
   "execution_count": 9,
   "id": "0283c928",
   "metadata": {},
   "outputs": [
    {
     "data": {
      "text/plain": [
       "'aakash patil'"
      ]
     },
     "execution_count": 9,
     "metadata": {},
     "output_type": "execute_result"
    }
   ],
   "source": [
    "name =\"       aakash patil    \"\n",
    "name.strip()       # combination of rstrip + lstrip"
   ]
  },
  {
   "cell_type": "markdown",
   "id": "6d506eb4",
   "metadata": {},
   "source": [
    "## 10. replace"
   ]
  },
  {
   "cell_type": "code",
   "execution_count": 10,
   "id": "fbd3a5d3",
   "metadata": {},
   "outputs": [
    {
     "data": {
      "text/plain": [
       "'data science and machine learning'"
      ]
     },
     "execution_count": 10,
     "metadata": {},
     "output_type": "execute_result"
    }
   ],
   "source": [
    "string=\"python and machine learning\"\n",
    "string.replace(\"python\",\"data science\")"
   ]
  },
  {
   "cell_type": "markdown",
   "id": "82386e56",
   "metadata": {},
   "source": [
    "## 11. count"
   ]
  },
  {
   "cell_type": "code",
   "execution_count": 7,
   "id": "3f5787be",
   "metadata": {},
   "outputs": [
    {
     "data": {
      "text/plain": [
       "1"
      ]
     },
     "execution_count": 7,
     "metadata": {},
     "output_type": "execute_result"
    }
   ],
   "source": [
    "string=\"python is a programming language,Python is a case sensative language \"\n",
    "string.count(\"python\")"
   ]
  },
  {
   "cell_type": "markdown",
   "id": "66cb9062",
   "metadata": {},
   "source": [
    "## 12. index"
   ]
  },
  {
   "cell_type": "code",
   "execution_count": 12,
   "id": "f4dbd09f",
   "metadata": {},
   "outputs": [
    {
     "data": {
      "text/plain": [
       "7"
      ]
     },
     "execution_count": 12,
     "metadata": {},
     "output_type": "execute_result"
    }
   ],
   "source": [
    "string=\"python is a programming language,Python is a case sensative language \"\n",
    "string.index(\"i\")    # return index for only first occurance"
   ]
  },
  {
   "cell_type": "markdown",
   "id": "095b09e1",
   "metadata": {},
   "source": [
    "# 13. find"
   ]
  },
  {
   "cell_type": "code",
   "execution_count": 13,
   "id": "eb3cbaee",
   "metadata": {},
   "outputs": [
    {
     "data": {
      "text/plain": [
       "10"
      ]
     },
     "execution_count": 13,
     "metadata": {},
     "output_type": "execute_result"
    }
   ],
   "source": [
    "string=\"python is a programming language,Python is a case sensative language \"\n",
    "string.find(\"a\")    # RETURN THE INDEX "
   ]
  },
  {
   "cell_type": "markdown",
   "id": "a2d14b7b",
   "metadata": {},
   "source": [
    "## 14. split"
   ]
  },
  {
   "cell_type": "code",
   "execution_count": 14,
   "id": "ddaad62c",
   "metadata": {},
   "outputs": [
    {
     "data": {
      "text/plain": [
       "['python',\n",
       " 'is',\n",
       " 'a',\n",
       " 'programming',\n",
       " 'language,Python',\n",
       " 'is',\n",
       " 'a',\n",
       " 'case',\n",
       " 'sensative',\n",
       " 'language']"
      ]
     },
     "execution_count": 14,
     "metadata": {},
     "output_type": "execute_result"
    }
   ],
   "source": [
    "string=\"python is a programming language,Python is a case sensative language \"\n",
    "string.split()"
   ]
  },
  {
   "cell_type": "markdown",
   "id": "8d387e2d",
   "metadata": {},
   "source": [
    "## 15. join"
   ]
  },
  {
   "cell_type": "code",
   "execution_count": 15,
   "id": "4f6e529b",
   "metadata": {},
   "outputs": [
    {
     "name": "stdout",
     "output_type": "stream",
     "text": [
      "pythonisaprogramminglanguage,Pythonisacasesensativelanguage\n"
     ]
    }
   ],
   "source": [
    "string=['python',\n",
    " 'is',\n",
    " 'a',\n",
    " 'programming',\n",
    " 'language,Python',\n",
    " 'is',\n",
    " 'a',\n",
    " 'case',\n",
    " 'sensative',\n",
    " 'language']\n",
    "result_string = ''.join(string)\n",
    "print(result_string)"
   ]
  },
  {
   "cell_type": "markdown",
   "id": "4442247f",
   "metadata": {},
   "source": [
    "## 16. endswith"
   ]
  },
  {
   "cell_type": "code",
   "execution_count": 16,
   "id": "3b64c89d",
   "metadata": {},
   "outputs": [
    {
     "data": {
      "text/plain": [
       "True"
      ]
     },
     "execution_count": 16,
     "metadata": {},
     "output_type": "execute_result"
    }
   ],
   "source": [
    "string = \"The sun sets, painting the sky with vibrant hues of orange\"\n",
    "string.endswith(\"orange\")"
   ]
  },
  {
   "cell_type": "markdown",
   "id": "0f561d6c",
   "metadata": {},
   "source": [
    "## 17. startswith "
   ]
  },
  {
   "cell_type": "code",
   "execution_count": 17,
   "id": "f2532dc8",
   "metadata": {},
   "outputs": [
    {
     "data": {
      "text/plain": [
       "True"
      ]
     },
     "execution_count": 17,
     "metadata": {},
     "output_type": "execute_result"
    }
   ],
   "source": [
    "string =\"Stars twinkle in the night.\"\n",
    "string.startswith(\"Stars\")"
   ]
  },
  {
   "cell_type": "markdown",
   "id": "1046f417",
   "metadata": {},
   "source": [
    "## 18. isalnum"
   ]
  },
  {
   "cell_type": "code",
   "execution_count": 18,
   "id": "a0cc429b",
   "metadata": {},
   "outputs": [
    {
     "name": "stdout",
     "output_type": "stream",
     "text": [
      "True\n",
      "False\n",
      "True\n",
      "False\n"
     ]
    }
   ],
   "source": [
    "string1 = \"Hello123\"          # CHECK IF STRING IS ALPHANUMERIC[a-z.A-Z,0-9]\n",
    "string2 = \"Hello, Python!\"\n",
    "string3 = \"12345\"\n",
    "string4 = \"\" \n",
    "print(string1.isalnum())  # True, as it contains only letters and numbers\n",
    "print(string2.isalnum())  # False, as it contains non-alphanumeric characters (comma and space)\n",
    "print(string3.isalnum())  # True, as it contains only numbers\n",
    "print(string4.isalnum())  # False, as it is an empty string (no characters)"
   ]
  },
  {
   "cell_type": "markdown",
   "id": "8285d10a",
   "metadata": {},
   "source": [
    "## 19. isalpha\n"
   ]
  },
  {
   "cell_type": "code",
   "execution_count": 8,
   "id": "dd5e4b54",
   "metadata": {},
   "outputs": [
    {
     "name": "stdout",
     "output_type": "stream",
     "text": [
      "True\n",
      "False\n",
      "False\n",
      "False\n"
     ]
    }
   ],
   "source": [
    "string1 = \"HelloWorld\"           # contains only alphabetical characters (letters) and has a length greater than zero.\n",
    "string2 = \"Hello, Python!\"\n",
    "string3 = \"12345\"\n",
    "string4 = \"\"\n",
    "print(string1.isalpha())  # True, as it contains only letters\n",
    "print(string2.isalpha())  # False, as it contains non-letter characters (comma and space)\n",
    "print(string3.isalpha())  # False, as it contains digits\n",
    "print(string4.isalpha())  # False, as it is an empty string (no characters)"
   ]
  },
  {
   "cell_type": "markdown",
   "id": "f24f3b47",
   "metadata": {},
   "source": [
    "## 20. isdecimal "
   ]
  },
  {
   "cell_type": "code",
   "execution_count": 20,
   "id": "8cc0f3fc",
   "metadata": {},
   "outputs": [
    {
     "name": "stdout",
     "output_type": "stream",
     "text": [
      "True\n",
      "False\n",
      "False\n"
     ]
    }
   ],
   "source": [
    "string1 = \"12345\"\n",
    "string3 = \"-5678\"\n",
    "string4 = \"abc123\"\n",
    "print(string1.isdecimal())  # True, as it represents a decimal number\n",
    "print(string3.isdecimal())  # False, as it contains a negative sign\n",
    "print(string4.isdecimal())  # False, as it contains non-digit characters"
   ]
  },
  {
   "cell_type": "markdown",
   "id": "8cf9a8bf",
   "metadata": {},
   "source": [
    "## 21. isdigit"
   ]
  },
  {
   "cell_type": "code",
   "execution_count": 21,
   "id": "9c384fb9",
   "metadata": {},
   "outputs": [
    {
     "name": "stdout",
     "output_type": "stream",
     "text": [
      "True\n",
      "False\n",
      "False\n"
     ]
    }
   ],
   "source": [
    "string1 = \"12345\"\n",
    "string2 = \"Hello\"\n",
    "string3 = \"12.34\"\n",
    "print(string1.isdigit())  # True, as it contains only digits\n",
    "print(string2.isdigit())  # False, as it contains non-digit characters\n",
    "print(string3.isdigit())  # False, as it contains decimal point"
   ]
  },
  {
   "cell_type": "markdown",
   "id": "1646426a",
   "metadata": {},
   "source": [
    "## 22. isnumeric"
   ]
  },
  {
   "cell_type": "code",
   "execution_count": 22,
   "id": "4c3a35b6",
   "metadata": {},
   "outputs": [
    {
     "name": "stdout",
     "output_type": "stream",
     "text": [
      "True\n",
      "False\n",
      "True\n",
      "False\n",
      "True\n"
     ]
    }
   ],
   "source": [
    "string1 = \"12345\"      # check whether a given string represents a numeric value.\n",
    "string2 = \"12.34\"\n",
    "string3 = \"½\"\n",
    "string4 = \"x²\"\n",
    "string5 = \"10⁴\"\n",
    "print(string1.isnumeric())  # True, as it contains only digits\n",
    "print(string2.isnumeric())  # False, as it contains a decimal point\n",
    "print(string3.isnumeric())  # True, as it contains a Unicode numeric character (fraction ½)\n",
    "print(string4.isnumeric())  # False, as it contains alphabetic characters (x and ²)\n",
    "print(string5.isnumeric())  # True, as it contains a Unicode numeric character (superscript ⁴)"
   ]
  },
  {
   "cell_type": "markdown",
   "id": "faa310c2",
   "metadata": {},
   "source": [
    "## 23. islower"
   ]
  },
  {
   "cell_type": "code",
   "execution_count": 23,
   "id": "29b02e74",
   "metadata": {},
   "outputs": [
    {
     "name": "stdout",
     "output_type": "stream",
     "text": [
      "True\n",
      "False\n",
      "True\n",
      "True\n"
     ]
    }
   ],
   "source": [
    "string1 = \"hello\"\n",
    "string2 = \"Hello\"\n",
    "string3 = \"123abc\"\n",
    "string4 = \"abc\"\n",
    "print(string1.islower())  # True, as all characters are lowercase\n",
    "print(string2.islower())  # False, as it contains uppercase characters\n",
    "print(string3.islower())  # True, as it contains lowercase alphabetic characters\n",
    "print(string4.islower())  # True, as all characters are lowercase"
   ]
  },
  {
   "cell_type": "markdown",
   "id": "1d055f10",
   "metadata": {},
   "source": [
    "## 24. isupper"
   ]
  },
  {
   "cell_type": "code",
   "execution_count": 24,
   "id": "e041015f",
   "metadata": {},
   "outputs": [
    {
     "name": "stdout",
     "output_type": "stream",
     "text": [
      "True\n",
      "False\n",
      "True\n",
      "True\n"
     ]
    }
   ],
   "source": [
    "string1 = \"HELLO\"    # Using isupper() to check if each string contains only uppercase alphabetic characters\n",
    "string2 = \"Hello\"\n",
    "string3 = \"123ABC\"\n",
    "string4 = \"ABC\"\n",
    "print(string1.isupper())  # True, as all characters are uppercase\n",
    "print(string2.isupper())  # False, as it contains lowercase characters\n",
    "print(string3.isupper())  # True, as it contains uppercase alphabetic characters\n",
    "print(string4.isupper())  # True, as all characters are uppercase"
   ]
  },
  {
   "cell_type": "markdown",
   "id": "1376f5d2",
   "metadata": {},
   "source": [
    "## 25. istitle"
   ]
  },
  {
   "cell_type": "code",
   "execution_count": 25,
   "id": "eef634e9",
   "metadata": {},
   "outputs": [
    {
     "name": "stdout",
     "output_type": "stream",
     "text": [
      "True\n",
      "True\n",
      "True\n"
     ]
    }
   ],
   "source": [
    "string1 = \"Titlecased String Example\"      # Using istitle() to check if each string follows the rules of a titlecased string\n",
    "string2 = \"This Is Not Titlecased\"\n",
    "string3 = \"Titlecased String With 123\"\n",
    "print(string1.istitle())  # True, as it is titlecased\n",
    "print(string2.istitle())  # False, as it does not follow titlecased rules\n",
    "print(string3.istitle())  # True, as it is titlecased (ignores digits)"
   ]
  },
  {
   "cell_type": "markdown",
   "id": "32a84bfd",
   "metadata": {},
   "source": [
    "## 26. isspace"
   ]
  },
  {
   "cell_type": "code",
   "execution_count": 26,
   "id": "a8aadfa4",
   "metadata": {},
   "outputs": [
    {
     "name": "stdout",
     "output_type": "stream",
     "text": [
      "True\n",
      "True\n",
      "False\n",
      "True\n",
      "True\n"
     ]
    }
   ],
   "source": [
    "string1 = \"   \"             # Using isspace() to check if each string contains only whitespace characters\n",
    "string2 = \"\\t\\t\\t\"\n",
    "string3 = \"Hello, World!\"\n",
    "string4 = \"\\n\\n\\n\"\n",
    "string5 = \"  \\t  \\n  \"\n",
    "print(string1.isspace())  # True, as it contains only spaces\n",
    "print(string2.isspace())  # True, as it contains only tabs\n",
    "print(string3.isspace())  # False, as it contains visible characters\n",
    "print(string4.isspace())  # True, as it contains only newlines\n",
    "print(string5.isspace())  # True, as it contains a combination of spaces, tabs, and newlines"
   ]
  },
  {
   "cell_type": "markdown",
   "id": "9547ba04",
   "metadata": {},
   "source": [
    "## 27. zfill"
   ]
  },
  {
   "cell_type": "code",
   "execution_count": 27,
   "id": "20c3a919",
   "metadata": {},
   "outputs": [
    {
     "name": "stdout",
     "output_type": "stream",
     "text": [
      "000123\n",
      "00004567\n",
      "-0089\n"
     ]
    }
   ],
   "source": [
    "number1 = \"123\"                   # Using zfill() to pad the numeric strings with leading zeros\n",
    "number2 = \"4567\"\n",
    "number3 = \"-89\"\n",
    "padded_number1 = number1.zfill(6)\n",
    "padded_number2 = number2.zfill(8)\n",
    "padded_number3 = number3.zfill(5)\n",
    "print(padded_number1)  # \"000123\"\n",
    "print(padded_number2)  # \"00004567\"\n",
    "print(padded_number3)  # \"-0089\""
   ]
  },
  {
   "cell_type": "markdown",
   "id": "c6007f75",
   "metadata": {},
   "source": [
    "## 28. center"
   ]
  },
  {
   "cell_type": "code",
   "execution_count": 28,
   "id": "6011a313",
   "metadata": {},
   "outputs": [
    {
     "name": "stdout",
     "output_type": "stream",
     "text": [
      "12\n"
     ]
    },
    {
     "data": {
      "text/plain": [
       "'    data science    '"
      ]
     },
     "execution_count": 28,
     "metadata": {},
     "output_type": "execute_result"
    }
   ],
   "source": [
    "string=\"data science\"\n",
    "print(len(string))\n",
    "string.center(20)"
   ]
  },
  {
   "cell_type": "code",
   "execution_count": 29,
   "id": "68f6b32d",
   "metadata": {},
   "outputs": [
    {
     "data": {
      "text/plain": [
       "'****data science****'"
      ]
     },
     "execution_count": 29,
     "metadata": {},
     "output_type": "execute_result"
    }
   ],
   "source": [
    "string=\"data science\"\n",
    "string.center(20,\"*\")"
   ]
  },
  {
   "cell_type": "code",
   "execution_count": null,
   "id": "22c98706",
   "metadata": {},
   "outputs": [],
   "source": []
  }
 ],
 "metadata": {
  "kernelspec": {
   "display_name": "Python 3 (ipykernel)",
   "language": "python",
   "name": "python3"
  },
  "language_info": {
   "codemirror_mode": {
    "name": "ipython",
    "version": 3
   },
   "file_extension": ".py",
   "mimetype": "text/x-python",
   "name": "python",
   "nbconvert_exporter": "python",
   "pygments_lexer": "ipython3",
   "version": "3.9.12"
  }
 },
 "nbformat": 4,
 "nbformat_minor": 5
}
