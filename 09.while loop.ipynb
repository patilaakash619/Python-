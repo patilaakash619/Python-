{
 "cells": [
  {
   "cell_type": "code",
   "execution_count": null,
   "id": "642fa544",
   "metadata": {},
   "outputs": [],
   "source": [
    "while loop : A while loop is a control flow statement in programming that allows you to repeatedly execute a block of code\n",
    "             as long as a specified condition is true. The loop continues to run until the condition becomes false."
   ]
  },
  {
   "cell_type": "code",
   "execution_count": 3,
   "id": "a80c3c69",
   "metadata": {},
   "outputs": [
    {
     "name": "stdout",
     "output_type": "stream",
     "text": [
      "hello\n",
      "hello\n",
      "hello\n",
      "hello\n",
      "hello\n"
     ]
    }
   ],
   "source": [
    "n=1\n",
    "while n <=5:\n",
    "    print(\"hello\")\n",
    "    n+=1"
   ]
  },
  {
   "cell_type": "markdown",
   "id": "45016db5",
   "metadata": {},
   "source": [
    "### Question 1:Write a Python program that calculates the factorial of a given positive integer using a while loop."
   ]
  },
  {
   "cell_type": "code",
   "execution_count": 4,
   "id": "afd44abd",
   "metadata": {},
   "outputs": [
    {
     "name": "stdout",
     "output_type": "stream",
     "text": [
      "factorial 120\n"
     ]
    }
   ],
   "source": [
    "num=5\n",
    "result=1\n",
    "while num>0:\n",
    "    result *= num\n",
    "    num-= 1\n",
    "    \n",
    "print(\"factorial\",result)\n",
    "    "
   ]
  },
  {
   "cell_type": "markdown",
   "id": "a0916307",
   "metadata": {},
   "source": [
    "### Question 2: Write a Python program to check if a given number is a prime number using a while loop."
   ]
  },
  {
   "cell_type": "code",
   "execution_count": 5,
   "id": "3f085c74",
   "metadata": {},
   "outputs": [
    {
     "name": "stdout",
     "output_type": "stream",
     "text": [
      "17 is prime True\n"
     ]
    }
   ],
   "source": [
    "num=17\n",
    "is_prime=True\n",
    "i=2\n",
    "while i*i<=num:\n",
    "    if num%i==0:\n",
    "        is_prime =False\n",
    "        break\n",
    "    i+=1\n",
    "print(num,\"is prime\",is_prime)\n"
   ]
  },
  {
   "cell_type": "markdown",
   "id": "331cde48",
   "metadata": {},
   "source": [
    "### Question 3:Write a Python program that finds the sum of all even numbers between 1 and a given number using a while loop."
   ]
  },
  {
   "cell_type": "code",
   "execution_count": 7,
   "id": "15aeb72f",
   "metadata": {},
   "outputs": [
    {
     "name": "stdout",
     "output_type": "stream",
     "text": [
      "Sum of even numbers: 30\n"
     ]
    }
   ],
   "source": [
    "num = 10\n",
    "sum_result = 0\n",
    "current_num = 2\n",
    "while current_num <= num:\n",
    "    sum_result += current_num\n",
    "    current_num += 2\n",
    "print(\"Sum of even numbers:\", sum_result)\n"
   ]
  },
  {
   "cell_type": "markdown",
   "id": "593738e5",
   "metadata": {},
   "source": [
    "### Question 4: Write a Python program to reverse a given integer using a while loop."
   ]
  },
  {
   "cell_type": "code",
   "execution_count": 8,
   "id": "7322197e",
   "metadata": {},
   "outputs": [
    {
     "name": "stdout",
     "output_type": "stream",
     "text": [
      "Reversed number: 54321\n"
     ]
    }
   ],
   "source": [
    "num = 12345\n",
    "reversed_num = 0\n",
    "while num > 0:\n",
    "    digit = num % 10\n",
    "    reversed_num = reversed_num * 10 + digit\n",
    "    num //= 10\n",
    "print(\"Reversed number:\", reversed_num)\n"
   ]
  },
  {
   "cell_type": "markdown",
   "id": "b25c8f48",
   "metadata": {},
   "source": [
    "### Question 5: Write a Python program to print a right-angled triangle pattern using a while loop."
   ]
  },
  {
   "cell_type": "code",
   "execution_count": 11,
   "id": "1733ab78",
   "metadata": {},
   "outputs": [
    {
     "name": "stdout",
     "output_type": "stream",
     "text": [
      "*\n",
      "**\n",
      "***\n",
      "****\n",
      "*****\n"
     ]
    }
   ],
   "source": [
    "num_rows = 5\n",
    "i = 1\n",
    "while i <= num_rows:\n",
    "    print('*' * i)\n",
    "    i += 1\n"
   ]
  },
  {
   "cell_type": "markdown",
   "id": "c5e386a9",
   "metadata": {},
   "source": [
    "### Question 6: Write a Python program that calculates the sum of all natural numbers up to a given number using a while loop."
   ]
  },
  {
   "cell_type": "code",
   "execution_count": 12,
   "id": "923bc882",
   "metadata": {},
   "outputs": [
    {
     "name": "stdout",
     "output_type": "stream",
     "text": [
      "Sum of natural numbers: 55\n"
     ]
    }
   ],
   "source": [
    "num = 10\n",
    "sum_result = 0\n",
    "i = 1\n",
    "while i <= num:\n",
    "    sum_result += i\n",
    "    i += 1\n",
    "print(\"Sum of natural numbers:\", sum_result)"
   ]
  },
  {
   "cell_type": "markdown",
   "id": "3d349b27",
   "metadata": {},
   "source": [
    "### Question 7: Write a Python program to find the largest digit in a given number using a while loop"
   ]
  },
  {
   "cell_type": "code",
   "execution_count": 13,
   "id": "5a906045",
   "metadata": {},
   "outputs": [
    {
     "name": "stdout",
     "output_type": "stream",
     "text": [
      "Largest digit: 9\n"
     ]
    }
   ],
   "source": [
    "num = 653291\n",
    "max_digit = 0\n",
    "while num > 0:\n",
    "    digit = num % 10\n",
    "    if digit > max_digit:\n",
    "        max_digit = digit\n",
    "    num //= 10\n",
    "print(\"Largest digit:\", max_digit)\n"
   ]
  },
  {
   "cell_type": "markdown",
   "id": "d842e531",
   "metadata": {},
   "source": [
    "### Question 8: Write a Python program to count the number of digits in a given integer using a while loop."
   ]
  },
  {
   "cell_type": "code",
   "execution_count": 14,
   "id": "14133a7e",
   "metadata": {},
   "outputs": [
    {
     "name": "stdout",
     "output_type": "stream",
     "text": [
      "Number of digits: 5\n"
     ]
    }
   ],
   "source": [
    "num = 12345\n",
    "count = 0\n",
    "while num > 0:\n",
    "    num //= 10\n",
    "    count += 1\n",
    "print(\"Number of digits:\", count)\n"
   ]
  },
  {
   "cell_type": "markdown",
   "id": "a6378b86",
   "metadata": {},
   "source": [
    "### Question 9: Write a Python program that prints the Fibonacci series up to a given number using a while loop."
   ]
  },
  {
   "cell_type": "code",
   "execution_count": 15,
   "id": "11c2e297",
   "metadata": {},
   "outputs": [
    {
     "name": "stdout",
     "output_type": "stream",
     "text": [
      "Fibonacci series: [0, 1, 1, 2, 3, 5, 8, 13, 21, 34]\n"
     ]
    }
   ],
   "source": [
    "num = 50\n",
    "fib_list = [0, 1]\n",
    "while fib_list[-1] + fib_list[-2] <= num:\n",
    "    fib_list.append(fib_list[-1] + fib_list[-2])\n",
    "print(\"Fibonacci series:\", fib_list)\n"
   ]
  },
  {
   "cell_type": "markdown",
   "id": "4f11ff33",
   "metadata": {},
   "source": [
    "### Question 10: Write a Python program to find the first 'n' prime numbers using a while loop."
   ]
  },
  {
   "cell_type": "code",
   "execution_count": 16,
   "id": "26b15421",
   "metadata": {},
   "outputs": [
    {
     "name": "stdout",
     "output_type": "stream",
     "text": [
      "First 5 prime numbers: [2, 3, 5, 7, 11]\n"
     ]
    }
   ],
   "source": [
    "n = 5\n",
    "primes = []\n",
    "num = 2\n",
    "while len(primes) < n:\n",
    "    is_prime = True\n",
    "    i = 2\n",
    "    while i * i <= num:\n",
    "        if num % i == 0:\n",
    "            is_prime = False\n",
    "            break\n",
    "        i += 1\n",
    "    if is_prime:\n",
    "        primes.append(num)\n",
    "    num += 1\n",
    "print(\"First\", n, \"prime numbers:\", primes)\n"
   ]
  },
  {
   "cell_type": "code",
   "execution_count": null,
   "id": "21c81821",
   "metadata": {},
   "outputs": [],
   "source": []
  }
 ],
 "metadata": {
  "kernelspec": {
   "display_name": "Python 3 (ipykernel)",
   "language": "python",
   "name": "python3"
  },
  "language_info": {
   "codemirror_mode": {
    "name": "ipython",
    "version": 3
   },
   "file_extension": ".py",
   "mimetype": "text/x-python",
   "name": "python",
   "nbconvert_exporter": "python",
   "pygments_lexer": "ipython3",
   "version": "3.9.12"
  }
 },
 "nbformat": 4,
 "nbformat_minor": 5
}
