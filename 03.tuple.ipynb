{
 "cells": [
  {
   "cell_type": "markdown",
   "id": "4dfd101b",
   "metadata": {},
   "source": [
    "## tuple"
   ]
  },
  {
   "cell_type": "code",
   "execution_count": null,
   "id": "5422ea35",
   "metadata": {},
   "outputs": [],
   "source": [
    "Ordered [indexing and slicing].\n",
    "Immutable .(cannot be modified)\n",
    "Duplicates are allowed.\n",
    "Enclosed by parenthesis .>> ()\n",
    "Separated by comma.\n",
    "we can add any datatype."
   ]
  },
  {
   "cell_type": "markdown",
   "id": "f9b7d0c7",
   "metadata": {},
   "source": [
    "### tuple methods :"
   ]
  },
  {
   "cell_type": "code",
   "execution_count": null,
   "id": "d437ef18",
   "metadata": {},
   "outputs": [],
   "source": [
    "1.index method ()\n",
    "2.count method ()"
   ]
  },
  {
   "cell_type": "markdown",
   "id": "23c98bb8",
   "metadata": {},
   "source": [
    "### 1.index method ()"
   ]
  },
  {
   "cell_type": "code",
   "execution_count": 1,
   "id": "fec3bb4b",
   "metadata": {},
   "outputs": [
    {
     "data": {
      "text/plain": [
       "1"
      ]
     },
     "execution_count": 1,
     "metadata": {},
     "output_type": "execute_result"
    }
   ],
   "source": [
    "t1=(10,20,30)\n",
    "t1.index(20)"
   ]
  },
  {
   "cell_type": "markdown",
   "id": "b5c45eef",
   "metadata": {},
   "source": [
    "### 2.count method ()"
   ]
  },
  {
   "cell_type": "code",
   "execution_count": 2,
   "id": "ae4bd674",
   "metadata": {},
   "outputs": [
    {
     "data": {
      "text/plain": [
       "2"
      ]
     },
     "execution_count": 2,
     "metadata": {},
     "output_type": "execute_result"
    }
   ],
   "source": [
    "t1=(10,20,10,20,30,10)\n",
    "t1.count(20)"
   ]
  },
  {
   "cell_type": "code",
   "execution_count": null,
   "id": "96d21d91",
   "metadata": {},
   "outputs": [],
   "source": []
  }
 ],
 "metadata": {
  "kernelspec": {
   "display_name": "Python 3 (ipykernel)",
   "language": "python",
   "name": "python3"
  },
  "language_info": {
   "codemirror_mode": {
    "name": "ipython",
    "version": 3
   },
   "file_extension": ".py",
   "mimetype": "text/x-python",
   "name": "python",
   "nbconvert_exporter": "python",
   "pygments_lexer": "ipython3",
   "version": "3.9.12"
  }
 },
 "nbformat": 4,
 "nbformat_minor": 5
}
