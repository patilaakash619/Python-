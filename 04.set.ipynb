{
 "cells": [
  {
   "cell_type": "markdown",
   "id": "c32ce266",
   "metadata": {},
   "source": [
    "## set"
   ]
  },
  {
   "cell_type": "code",
   "execution_count": null,
   "id": "72b2be8e",
   "metadata": {},
   "outputs": [],
   "source": [
    "Set is collection of different datatype seprated by , and enclosed by {}  and duplicate  data is not allowed. \n",
    "1. It is unordered \n",
    "2. It is mutable \n",
    "3. Duplicates are not allowed.\n",
    "4. Separated by , \n",
    "5. enclosed {}"
   ]
  },
  {
   "cell_type": "markdown",
   "id": "a26ea2bc",
   "metadata": {},
   "source": [
    "## set methods"
   ]
  },
  {
   "cell_type": "code",
   "execution_count": null,
   "id": "e77ca9c6",
   "metadata": {},
   "outputs": [],
   "source": [
    "1. add()\n",
    "2. update()\n",
    "3. union()\n",
    "4. remove()\n",
    "5. discard()\n",
    "6. pop\n",
    "7. clear()\n",
    "8. intersection()                 ### more than 1 argument \n",
    "9. intersection_update()\n",
    "10. difference()                  ### more than 1 argument\n",
    "11. differnece_update()\n",
    "12. symmetric_difference()\n",
    "13. symmetric_difference_update()\n",
    "14. issubset()\n",
    "15. issuperset()\n",
    "16. isdisjoint()\n",
    "17. copy()"
   ]
  },
  {
   "cell_type": "markdown",
   "id": "ef56b2c0",
   "metadata": {},
   "source": [
    "### 1. add(): Adds an element to the set. If the element is already present, the set remains unchanged."
   ]
  },
  {
   "cell_type": "code",
   "execution_count": 3,
   "id": "d26c0f2f",
   "metadata": {},
   "outputs": [
    {
     "name": "stdout",
     "output_type": "stream",
     "text": [
      "{1, 2, 3, 4}\n",
      "{1, 2, 3, 4}\n"
     ]
    }
   ],
   "source": [
    "my_set = {1, 2, 3}\n",
    "my_set.add(4)\n",
    "print(my_set)                            # Output: {1, 2, 3, 4}\n",
    "\n",
    "my_set.add(2)                            # Element 2 already exists, so no change in the set\n",
    "print(my_set)"
   ]
  },
  {
   "cell_type": "markdown",
   "id": "6da85e87",
   "metadata": {},
   "source": [
    "### 2.update () : exisiting set item are updated ."
   ]
  },
  {
   "cell_type": "code",
   "execution_count": 4,
   "id": "ace1d1d8",
   "metadata": {},
   "outputs": [
    {
     "data": {
      "text/plain": [
       "{1, 2, 3, 4, 5, 6, 7, 8, 9}"
      ]
     },
     "execution_count": 4,
     "metadata": {},
     "output_type": "execute_result"
    }
   ],
   "source": [
    "set1 = {1,2,3}\n",
    "set2 = {4,5,6}\n",
    "set3 = {7,8,9}\n",
    "set1.update(set2,set3)\n",
    "set1"
   ]
  },
  {
   "cell_type": "markdown",
   "id": "35c5590c",
   "metadata": {},
   "source": [
    "### 3.union () : Union method will return new set ."
   ]
  },
  {
   "cell_type": "code",
   "execution_count": 6,
   "id": "7e1ef99b",
   "metadata": {},
   "outputs": [
    {
     "name": "stdout",
     "output_type": "stream",
     "text": [
      "{50, 20, 40, 10, 60, 30}\n"
     ]
    }
   ],
   "source": [
    "s1 = {10,20,30}\n",
    "s2 = {40,50,60}\n",
    "s3 = s1.union(s2)\n",
    "print(s3)"
   ]
  },
  {
   "cell_type": "markdown",
   "id": "904d9d39",
   "metadata": {},
   "source": [
    "### 4. remove(): Removes a specified element from the set. Raises a KeyError if the element is not found."
   ]
  },
  {
   "cell_type": "code",
   "execution_count": 7,
   "id": "1f3f73d1",
   "metadata": {},
   "outputs": [
    {
     "name": "stdout",
     "output_type": "stream",
     "text": [
      "{1, 2, 4}\n"
     ]
    }
   ],
   "source": [
    "my_set = {1, 2, 3, 4}\n",
    "my_set.remove(3)\n",
    "print(my_set)                                 # Output: {1, 2, 4}"
   ]
  },
  {
   "cell_type": "markdown",
   "id": "243b738f",
   "metadata": {},
   "source": [
    "### 5.discard(): Removes a specified element from the set if it exists. If the element is not found, it does nothing."
   ]
  },
  {
   "cell_type": "code",
   "execution_count": 8,
   "id": "16f99d82",
   "metadata": {},
   "outputs": [
    {
     "name": "stdout",
     "output_type": "stream",
     "text": [
      "{1, 2, 4}\n",
      "{1, 2, 4}\n"
     ]
    }
   ],
   "source": [
    "my_set = {1, 2, 3, 4}\n",
    "my_set.discard(3)\n",
    "print(my_set)                                   # Output: {1, 2, 4}\n",
    " \n",
    "my_set.discard(5)                               # Element 5 does not exist, so no change in the set\n",
    "print(my_set)                                   # Output: {1, 2, 4}"
   ]
  },
  {
   "cell_type": "markdown",
   "id": "a00286a5",
   "metadata": {},
   "source": [
    "### 6.pop(): Removes and returns an arbitrary element from the set. Since sets are unordered, the element removed is not necessarily the last one."
   ]
  },
  {
   "cell_type": "code",
   "execution_count": 9,
   "id": "37d34ff6",
   "metadata": {},
   "outputs": [
    {
     "name": "stdout",
     "output_type": "stream",
     "text": [
      "1\n",
      "{2, 3, 4}\n"
     ]
    }
   ],
   "source": [
    "my_set = {1, 2, 3, 4}\n",
    "removed_element = my_set.pop()\n",
    "print(removed_element)                        # Output: Any arbitrary element (e.g., 1, 2, 3, or 4)\n",
    "print(my_set)                                 # Output: The set with the removed element"
   ]
  },
  {
   "cell_type": "markdown",
   "id": "d19ebdde",
   "metadata": {},
   "source": [
    "### 7. clear (): remove all item from set , return empty set ."
   ]
  },
  {
   "cell_type": "code",
   "execution_count": 16,
   "id": "1287bd3c",
   "metadata": {},
   "outputs": [
    {
     "data": {
      "text/plain": [
       "set()"
      ]
     },
     "execution_count": 16,
     "metadata": {},
     "output_type": "execute_result"
    }
   ],
   "source": [
    "s1 = {10,20,30,40,50}\n",
    "s1.clear()\n",
    "s1"
   ]
  },
  {
   "cell_type": "markdown",
   "id": "fa0b2693",
   "metadata": {},
   "source": [
    "### 8.Intersection ():  Return new variables with common data from sets ."
   ]
  },
  {
   "cell_type": "code",
   "execution_count": 15,
   "id": "24a0c382",
   "metadata": {},
   "outputs": [
    {
     "data": {
      "text/plain": [
       "{3, 4, 5}"
      ]
     },
     "execution_count": 15,
     "metadata": {},
     "output_type": "execute_result"
    }
   ],
   "source": [
    "s1 = {1,2,3,4,5}\n",
    "s2 = {3,4,5,6,7,8}\n",
    "s3 = s1.intersection(s2)\n",
    "s3"
   ]
  },
  {
   "cell_type": "markdown",
   "id": "de0566e9",
   "metadata": {},
   "source": [
    "### 9.Intersection_update ():  update with common data from sets ."
   ]
  },
  {
   "cell_type": "code",
   "execution_count": 14,
   "id": "004ff82e",
   "metadata": {},
   "outputs": [
    {
     "name": "stdout",
     "output_type": "stream",
     "text": [
      "{1, 2, 3, 4, 5}\n"
     ]
    },
    {
     "data": {
      "text/plain": [
       "{3, 4, 5}"
      ]
     },
     "execution_count": 14,
     "metadata": {},
     "output_type": "execute_result"
    }
   ],
   "source": [
    "s1 = {1,2,3,4,5}\n",
    "s2 = {3,4,5,6,7,8}\n",
    "print(s1)\n",
    "s1.intersection_update(s2)\n",
    "s1"
   ]
  },
  {
   "cell_type": "markdown",
   "id": "c916b77c",
   "metadata": {},
   "source": [
    "### 10.difference (): This method will return new set variable .Unique value from set."
   ]
  },
  {
   "cell_type": "code",
   "execution_count": 13,
   "id": "581f26b6",
   "metadata": {},
   "outputs": [
    {
     "name": "stdout",
     "output_type": "stream",
     "text": [
      "{'mumbai', 'banglore'}\n"
     ]
    }
   ],
   "source": [
    "city1={\"mumbai\",\"pune\",\"banglore\"}\n",
    "city2={\"delhi\",\"pune\",\"chennai\"}\n",
    "city=city1.difference(city2)\n",
    "print(city)"
   ]
  },
  {
   "cell_type": "markdown",
   "id": "492556f8",
   "metadata": {},
   "source": [
    "### 11.difference_update (): it will make changes in exisiting variable ."
   ]
  },
  {
   "cell_type": "code",
   "execution_count": 17,
   "id": "aab3b775",
   "metadata": {},
   "outputs": [
    {
     "name": "stdout",
     "output_type": "stream",
     "text": [
      "{'mumbai', 'banglore'}\n",
      "{'pune', 'delhi', 'chennai'}\n"
     ]
    }
   ],
   "source": [
    "city1={\"mumbai\",\"pune\",\"banglore\"}\n",
    "city2={\"delhi\",\"pune\",\"chennai\"}\n",
    "city1.difference_update(city2)\n",
    "print(city1)\n",
    "print(city2)"
   ]
  },
  {
   "cell_type": "markdown",
   "id": "56667667",
   "metadata": {},
   "source": [
    "### 12.symmetric_difference() : Unique values from both sets.It will return new set."
   ]
  },
  {
   "cell_type": "code",
   "execution_count": 18,
   "id": "8610f0fc",
   "metadata": {},
   "outputs": [
    {
     "name": "stdout",
     "output_type": "stream",
     "text": [
      "{'delhi', 'mumbai', 'chennai', 'banglore'}\n"
     ]
    }
   ],
   "source": [
    "city1={\"mumbai\",\"pune\",\"banglore\"}\n",
    "city2={\"delhi\",\"pune\",\"chennai\"}\n",
    "city=city1.symmetric_difference(city2)\n",
    "print(city)"
   ]
  },
  {
   "cell_type": "markdown",
   "id": "de47b902",
   "metadata": {},
   "source": [
    "### 13.symmetric_difference_update() :It will update the unique values from both sets into one set."
   ]
  },
  {
   "cell_type": "code",
   "execution_count": 19,
   "id": "5747a8f0",
   "metadata": {},
   "outputs": [
    {
     "name": "stdout",
     "output_type": "stream",
     "text": [
      "{'delhi', 'mumbai', 'chennai', 'banglore'}\n",
      "{'pune', 'delhi', 'chennai'}\n"
     ]
    }
   ],
   "source": [
    "city1={\"mumbai\",\"pune\",\"banglore\"}\n",
    "city2={\"delhi\",\"pune\",\"chennai\"}\n",
    "city=city1.symmetric_difference_update(city2)\n",
    "print(city1)\n",
    "print(city2)"
   ]
  },
  {
   "cell_type": "markdown",
   "id": "fa234f31",
   "metadata": {},
   "source": [
    "### 14.issubset() : True or False ,subset >> set2 all values present in set1 i.e set2 is subset set1."
   ]
  },
  {
   "cell_type": "code",
   "execution_count": 21,
   "id": "f14b5551",
   "metadata": {},
   "outputs": [
    {
     "data": {
      "text/plain": [
       "True"
      ]
     },
     "execution_count": 21,
     "metadata": {},
     "output_type": "execute_result"
    }
   ],
   "source": [
    "set1 = {1,5,9,2,3,15,12}\n",
    "set2 = {1,5,9}\n",
    "set2.issubset(set1)"
   ]
  },
  {
   "cell_type": "markdown",
   "id": "5c4d27cc",
   "metadata": {},
   "source": [
    "### 15.issuperset() :True or False ,Superset >> set2 all values present in set1 along with other values  i.e.set1 will be superset of set2.\n"
   ]
  },
  {
   "cell_type": "code",
   "execution_count": 22,
   "id": "b787e5d8",
   "metadata": {},
   "outputs": [
    {
     "data": {
      "text/plain": [
       "True"
      ]
     },
     "execution_count": 22,
     "metadata": {},
     "output_type": "execute_result"
    }
   ],
   "source": [
    "set1 = {1,5,9,2,3,15,12}\n",
    "set2 = {1,5,9}\n",
    "set1.issuperset(set2)"
   ]
  },
  {
   "cell_type": "markdown",
   "id": "620cbc49",
   "metadata": {},
   "source": [
    "### 16.isdisjoint() :  If common items are present then return False otherwise it will return True.\n"
   ]
  },
  {
   "cell_type": "code",
   "execution_count": 23,
   "id": "978c8c3f",
   "metadata": {},
   "outputs": [
    {
     "data": {
      "text/plain": [
       "True"
      ]
     },
     "execution_count": 23,
     "metadata": {},
     "output_type": "execute_result"
    }
   ],
   "source": [
    "s1 = {2,3,5,6,7,8}\n",
    "s2 = {20,30,50}\n",
    "s1.isdisjoint(s2)"
   ]
  },
  {
   "cell_type": "code",
   "execution_count": null,
   "id": "881c6b2a",
   "metadata": {},
   "outputs": [],
   "source": []
  }
 ],
 "metadata": {
  "kernelspec": {
   "display_name": "Python 3 (ipykernel)",
   "language": "python",
   "name": "python3"
  },
  "language_info": {
   "codemirror_mode": {
    "name": "ipython",
    "version": 3
   },
   "file_extension": ".py",
   "mimetype": "text/x-python",
   "name": "python",
   "nbconvert_exporter": "python",
   "pygments_lexer": "ipython3",
   "version": "3.9.12"
  }
 },
 "nbformat": 4,
 "nbformat_minor": 5
}
