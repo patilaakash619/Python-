{
 "cells": [
  {
   "cell_type": "markdown",
   "id": "33882967",
   "metadata": {},
   "source": [
    "## Frozenset "
   ]
  },
  {
   "cell_type": "code",
   "execution_count": null,
   "id": "8e3e4b8c",
   "metadata": {},
   "outputs": [],
   "source": [
    "immutable \n",
    "Unordered\n",
    "Duplicates are not allowed\n",
    "separated by comma , frozenset({})"
   ]
  },
  {
   "cell_type": "markdown",
   "id": "7b8b39eb",
   "metadata": {},
   "source": [
    "### Frozenset  method :"
   ]
  },
  {
   "cell_type": "code",
   "execution_count": null,
   "id": "8ccb3d3f",
   "metadata": {},
   "outputs": [],
   "source": [
    "1.union ()\n",
    "2.intersection ()\n",
    "3.difference ()\n",
    "4.symmetric_difference ()\n",
    "5.issubset ()\n",
    "6.issuperset ()\n",
    "7.isdisjoint ()"
   ]
  },
  {
   "cell_type": "markdown",
   "id": "f5ffdbea",
   "metadata": {},
   "source": [
    "### 1.union ()"
   ]
  },
  {
   "cell_type": "code",
   "execution_count": 1,
   "id": "10375c99",
   "metadata": {},
   "outputs": [
    {
     "data": {
      "text/plain": [
       "frozenset({1, 2, 3, 4, 5, 6, 7, 8})"
      ]
     },
     "execution_count": 1,
     "metadata": {},
     "output_type": "execute_result"
    }
   ],
   "source": [
    "fs1 = frozenset({1,2,3,4,})\n",
    "fs2 = frozenset({5,6,7,8})\n",
    "fs1.union(fs2)"
   ]
  },
  {
   "cell_type": "markdown",
   "id": "54aade8b",
   "metadata": {},
   "source": [
    "### 2.intersection ()"
   ]
  },
  {
   "cell_type": "code",
   "execution_count": 2,
   "id": "1cd0293a",
   "metadata": {},
   "outputs": [
    {
     "data": {
      "text/plain": [
       "frozenset({20, 30})"
      ]
     },
     "execution_count": 2,
     "metadata": {},
     "output_type": "execute_result"
    }
   ],
   "source": [
    "fs1 = frozenset({10,20,30})\n",
    "fs2 = frozenset({20,30,40})\n",
    "fs=fs1.intersection(fs2)\n",
    "fs"
   ]
  },
  {
   "cell_type": "markdown",
   "id": "c6f3b100",
   "metadata": {},
   "source": [
    "### 3.difference ()"
   ]
  },
  {
   "cell_type": "code",
   "execution_count": 3,
   "id": "ed3ff040",
   "metadata": {},
   "outputs": [
    {
     "name": "stdout",
     "output_type": "stream",
     "text": [
      "frozenset({'mumbai', 'banglore'})\n"
     ]
    }
   ],
   "source": [
    "city1=frozenset({\"mumbai\",\"pune\",\"banglore\"})\n",
    "city2=frozenset({\"delhi\",\"pune\",\"chennai\"})\n",
    "city=city1.difference(city2)\n",
    "print(city)"
   ]
  },
  {
   "cell_type": "markdown",
   "id": "3a261bf4",
   "metadata": {},
   "source": [
    "### 4.symmetric_difference ()"
   ]
  },
  {
   "cell_type": "code",
   "execution_count": 4,
   "id": "aeef056e",
   "metadata": {},
   "outputs": [
    {
     "name": "stdout",
     "output_type": "stream",
     "text": [
      "frozenset({'mumbai', 'delhi', 'chennai', 'banglore'})\n"
     ]
    }
   ],
   "source": [
    "city1=frozenset({\"mumbai\",\"pune\",\"banglore\"})\n",
    "city2=frozenset({\"delhi\",\"pune\",\"chennai\"})\n",
    "city=city1.symmetric_difference(city2)\n",
    "print(city)"
   ]
  },
  {
   "cell_type": "markdown",
   "id": "0319c929",
   "metadata": {},
   "source": [
    "### 5.issubset ()"
   ]
  },
  {
   "cell_type": "code",
   "execution_count": 5,
   "id": "16f4c3af",
   "metadata": {},
   "outputs": [
    {
     "data": {
      "text/plain": [
       "True"
      ]
     },
     "execution_count": 5,
     "metadata": {},
     "output_type": "execute_result"
    }
   ],
   "source": [
    "set1 = frozenset({1,5,9,2,3,15,12})\n",
    "set2 = frozenset({1,5,9})\n",
    "set2.issubset(set1)"
   ]
  },
  {
   "cell_type": "markdown",
   "id": "87d57e7b",
   "metadata": {},
   "source": [
    "### 6.issuperset ()"
   ]
  },
  {
   "cell_type": "code",
   "execution_count": 6,
   "id": "8b424621",
   "metadata": {},
   "outputs": [
    {
     "data": {
      "text/plain": [
       "False"
      ]
     },
     "execution_count": 6,
     "metadata": {},
     "output_type": "execute_result"
    }
   ],
   "source": [
    "set1 = frozenset({1,5,9,2,3,15,12})\n",
    "set2 = frozenset({1,5,9})\n",
    "set2.issuperset(set1)"
   ]
  },
  {
   "cell_type": "markdown",
   "id": "da9331c2",
   "metadata": {},
   "source": [
    "### 7.isdisjoint ()"
   ]
  },
  {
   "cell_type": "code",
   "execution_count": 7,
   "id": "4e4c4fc0",
   "metadata": {},
   "outputs": [
    {
     "data": {
      "text/plain": [
       "False"
      ]
     },
     "execution_count": 7,
     "metadata": {},
     "output_type": "execute_result"
    }
   ],
   "source": [
    "s1 = frozenset({2,3,5,6,7,8})\n",
    "s2 = frozenset({2,3,5})\n",
    "s1.isdisjoint(s2)"
   ]
  },
  {
   "cell_type": "code",
   "execution_count": null,
   "id": "cc4d3c58",
   "metadata": {},
   "outputs": [],
   "source": []
  }
 ],
 "metadata": {
  "kernelspec": {
   "display_name": "Python 3 (ipykernel)",
   "language": "python",
   "name": "python3"
  },
  "language_info": {
   "codemirror_mode": {
    "name": "ipython",
    "version": 3
   },
   "file_extension": ".py",
   "mimetype": "text/x-python",
   "name": "python",
   "nbconvert_exporter": "python",
   "pygments_lexer": "ipython3",
   "version": "3.9.12"
  }
 },
 "nbformat": 4,
 "nbformat_minor": 5
}
