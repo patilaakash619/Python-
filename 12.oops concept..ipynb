{
 "cells": [
  {
   "cell_type": "code",
   "execution_count": null,
   "id": "a4450427",
   "metadata": {},
   "outputs": [],
   "source": [
    "everything in python is an object.\n",
    "the main power of OOP is ,that it give programmer the poWEr to biult his own data type."
   ]
  },
  {
   "cell_type": "code",
   "execution_count": null,
   "id": "3cf6d796",
   "metadata": {},
   "outputs": [],
   "source": [
    "OOPS : 6 PRINCIPLE\n",
    "    1.CLASS \n",
    "    2.OBJECT\n",
    "    3.Encapsulation\n",
    "    4.Inheritance\n",
    "    5.Polymorphism\n",
    "    6.Abstraction"
   ]
  },
  {
   "cell_type": "markdown",
   "id": "f2602ed3",
   "metadata": {},
   "source": [
    "## 1.classes and object "
   ]
  },
  {
   "cell_type": "code",
   "execution_count": null,
   "id": "1ce27f7c",
   "metadata": {},
   "outputs": [],
   "source": [
    "class is an blue print of object , who says that how its object behave.\n",
    "class is set of rule to which object follow.\n",
    "in python all data type are classes and there variable is object.\n",
    "example :class : mobile \n",
    "        object :samsung ,nokia \n",
    "            \n",
    "object :is an institant of class\n",
    "    \n",
    "    example : car-------> waghon r\n",
    "              sport -----> cricket\n",
    "syntax to create object\n",
    "objec_name = class_name()"
   ]
  },
  {
   "cell_type": "code",
   "execution_count": null,
   "id": "0ee31118",
   "metadata": {},
   "outputs": [],
   "source": [
    "class : 1.data or property (car : colour ,shape)\n",
    "        2.function or bahaviour.(moving : speed)\n",
    "\n",
    "types of classes in python :\n",
    "    1.built in classes : list ,int tuple ,set\n",
    "    2.user define classes : programmer created as per his requirement ."
   ]
  },
  {
   "cell_type": "markdown",
   "id": "d884a528",
   "metadata": {},
   "source": [
    "constructor : function insite class\n",
    "    def__init__(self):\n",
    "        \n",
    "CONSTRUCTOR is a special function which has a super power , any thing in construtor to execute that we dont need to call it.as we make its object the code in constructor automaticaly gets executed."
   ]
  },
  {
   "cell_type": "code",
   "execution_count": null,
   "id": "1b45b3a2",
   "metadata": {},
   "outputs": [],
   "source": [
    "## class & object :\n",
    "  def __init__(self):\n",
    "    print(id(self))\n",
    "    self.pin = ''\n",
    "    self.balance = 0  ## it will not execute until object is created"
   ]
  },
  {
   "cell_type": "code",
   "execution_count": null,
   "id": "7418f6c0",
   "metadata": {},
   "outputs": [],
   "source": [
    "class ATM:\n",
    "    \n",
    "    def__init__(self):\n",
    "        self.pin = ''\n",
    "        self.balance = 0\n",
    "obj=(ATM)"
   ]
  },
  {
   "cell_type": "code",
   "execution_count": 17,
   "id": "2ff8ccd6",
   "metadata": {},
   "outputs": [],
   "source": [
    "class Atm:\n",
    "\n",
    "  # constructor(special function)->superpower -> \n",
    "  def __init__(self):\n",
    "    print(id(self))\n",
    "    self.pin = ''\n",
    "    self.balance = 0\n",
    "    #self.menu()\n",
    "\n",
    "  def menu(self):\n",
    "    user_input = input(\"\"\"\n",
    "    Hi how can I help you?\n",
    "    1. Press 1 to create pin\n",
    "    2. Press 2 to change pin\n",
    "    3. Press 3 to check balance\n",
    "    4. Press 4 to withdraw\n",
    "    5. Anything else to exit\n",
    "    \"\"\")\n",
    "\n",
    "    if user_input == '1':\n",
    "      self.create_pin()\n",
    "    elif user_input == '2':\n",
    "      self.change_pin()\n",
    "    elif user_input == '3':\n",
    "      self.check_balance()\n",
    "    elif user_input == '4':\n",
    "      self.withdraw()\n",
    "    else:\n",
    "      exit()\n",
    "\n",
    "  def create_pin(self):\n",
    "    user_pin = input('enter your pin')\n",
    "    self.pin = user_pin\n",
    "\n",
    "    user_balance = int(input('enter balance'))\n",
    "    self.balance = user_balance\n",
    "\n",
    "    print('pin created successfully')\n",
    "    self.menu()\n",
    "\n",
    "  def change_pin():\n",
    "    old_pin = input('enter old pin')\n",
    "\n",
    "    if old_pin == self.pin:\n",
    "      # let him change the pin\n",
    "      new_pin = input('enter new pin')\n",
    "      self.pin = new_pin\n",
    "      print('pin change successful')\n",
    "      self.menu()\n",
    "    else:\n",
    "      print('nai karne de sakta re baba')\n",
    "      self.menu()\n",
    "\n",
    "  def check_balance(self):\n",
    "    user_pin = input('enter your pin')\n",
    "    if user_pin == self.pin:\n",
    "      print('your balance is ',self.balance)\n",
    "    else:\n",
    "      print('chal nikal yahan se')\n",
    "\n",
    "  def withdraw(self):\n",
    "    user_pin = input('enter the pin')\n",
    "    if user_pin == self.pin:\n",
    "      # allow to withdraw\n",
    "      amount = int(input('enter the amount'))\n",
    "      if amount <= self.balance:\n",
    "        self.balance = self.balance - amount\n",
    "        print('withdrawl successful.balance is',self.balance)\n",
    "      else:\n",
    "        print('abe garib')\n",
    "    else:\n",
    "      print('sale chor')\n",
    "    self.menu()"
   ]
  },
  {
   "cell_type": "markdown",
   "id": "829e66bd",
   "metadata": {},
   "source": [
    "## methods & functions "
   ]
  },
  {
   "cell_type": "code",
   "execution_count": null,
   "id": "71ddf49a",
   "metadata": {},
   "outputs": [],
   "source": [
    "method : any function  in class is a method.\n",
    "function : any function  outside  class is a function ."
   ]
  },
  {
   "cell_type": "code",
   "execution_count": null,
   "id": "84d4ec69",
   "metadata": {},
   "outputs": [],
   "source": [
    "L = [1,2,3]\n",
    "len(L)                           # function ->bcos it is outside the list class.\n",
    "L.append()                       # method -> bcos it is inside the list class."
   ]
  },
  {
   "cell_type": "markdown",
   "id": "568ac931",
   "metadata": {},
   "source": [
    "## class diagram"
   ]
  },
  {
   "cell_type": "code",
   "execution_count": null,
   "id": "46951d09",
   "metadata": {},
   "outputs": [],
   "source": [
    "'+'  ---> public     #  visible out side the class\n",
    "'-'  ---> private     # not visible out side the class"
   ]
  },
  {
   "cell_type": "markdown",
   "id": "a648b8ae",
   "metadata": {},
   "source": [
    "## magic method or dunder method"
   ]
  },
  {
   "cell_type": "code",
   "execution_count": null,
   "id": "c2cf398b",
   "metadata": {},
   "outputs": [],
   "source": [
    "magic method  : is a special method and has a super power.by using these magic method we can create our own data type.\n",
    "example :__name__\n",
    "         __init__\n",
    "        \n",
    "constructer is a method which is define inside the class, but it is a special method and got a super power.\n",
    "we did not need to call it it get executed when we create its object. create programmer life easy.\n",
    "  \n",
    "benefit of using a constructor :\n",
    "    1.constructor is used to write configuration related code (to connect it to a backend database) \n",
    "    2.the thing we want to do without using user are written inside constructer.\n",
    "    3.constructor is a function whoes control is not in user hand .it automaticaly get trigger at the start of application .\n",
    "    4. god is a programmer\n",
    "       earth is a class\n",
    "       we human being are objects.\n",
    "    son there are those thing in constructor those control god does not want ot give it to a human being.\n",
    "    5. we cannot change the name of a constructer __name__ is fix."
   ]
  },
  {
   "cell_type": "code",
   "execution_count": 20,
   "id": "43f032ef",
   "metadata": {},
   "outputs": [
    {
     "name": "stdout",
     "output_type": "stream",
     "text": [
      "hello\n"
     ]
    }
   ],
   "source": [
    "class Temp:\n",
    "\n",
    "  def __init__(self):\n",
    "    print('hello')\n",
    "\n",
    "obj = Temp()"
   ]
  },
  {
   "cell_type": "code",
   "execution_count": null,
   "id": "83635914",
   "metadata": {},
   "outputs": [],
   "source": [
    "self : the currrent object , object itself to talk one  method with other method we used self,for interclass communication"
   ]
  },
  {
   "cell_type": "markdown",
   "id": "d86eaaf9",
   "metadata": {},
   "source": [
    "## types of constructer "
   ]
  },
  {
   "cell_type": "code",
   "execution_count": null,
   "id": "01779508",
   "metadata": {},
   "outputs": [],
   "source": [
    "1.parameterized constructor : which reqired input while object creation."
   ]
  },
  {
   "cell_type": "code",
   "execution_count": 12,
   "id": "f1a66943",
   "metadata": {},
   "outputs": [],
   "source": [
    "class Fraction:                               # parameterized constructor\n",
    "\n",
    "  def __init__(self,x,y):\n",
    "    self.num = x\n",
    "    self.den = y\n",
    "\n",
    "  def __str__(self):\n",
    "    return '{}/{}'.format(self.num,self.den)\n",
    "\n",
    "  def __add__(self,other):\n",
    "    new_num = self.num*other.den + other.num*self.den\n",
    "    new_den = self.den*other.den\n",
    "\n",
    "    return '{}/{}'.format(new_num,new_den)\n",
    "\n",
    "  def __sub__(self,other):\n",
    "    new_num = self.num*other.den - other.num*self.den\n",
    "    new_den = self.den*other.den\n",
    "\n",
    "    return '{}/{}'.format(new_num,new_den)\n",
    "\n",
    "  def __mul__(self,other):\n",
    "    new_num = self.num*other.num\n",
    "    new_den = self.den*other.den\n",
    "\n",
    "    return '{}/{}'.format(new_num,new_den)\n",
    "\n",
    "  def __truediv__(self,other):\n",
    "    new_num = self.num*other.den\n",
    "    new_den = self.den*other.num\n",
    "\n",
    "    return '{}/{}'.format(new_num,new_den)\n",
    "\n",
    "  def convert_to_decimal(self):\n",
    "    return self.num/self.den"
   ]
  },
  {
   "cell_type": "code",
   "execution_count": 16,
   "id": "036f0f93",
   "metadata": {},
   "outputs": [],
   "source": [
    "fr1 = Fraction(3,4)\n",
    "fr2 = Fraction(1,2)"
   ]
  },
  {
   "cell_type": "code",
   "execution_count": 17,
   "id": "22971e35",
   "metadata": {},
   "outputs": [
    {
     "name": "stdout",
     "output_type": "stream",
     "text": [
      "3/4\n",
      "<class '__main__.Fraction'>\n"
     ]
    }
   ],
   "source": [
    "print(fr1)\n",
    "print(type(fr1))"
   ]
  },
  {
   "cell_type": "code",
   "execution_count": 18,
   "id": "a446634a",
   "metadata": {},
   "outputs": [
    {
     "name": "stdout",
     "output_type": "stream",
     "text": [
      "10/8\n",
      "2/8\n",
      "3/8\n",
      "6/4\n"
     ]
    }
   ],
   "source": [
    "print(fr1 + fr2)\n",
    "print(fr1 - fr2)\n",
    "print(fr1 * fr2)\n",
    "print(fr1 / fr2)"
   ]
  },
  {
   "cell_type": "code",
   "execution_count": null,
   "id": "3ca1ca71",
   "metadata": {},
   "outputs": [],
   "source": [
    "Write OOP classes to handle the following scenarios:\n",
    "A user can create and view 2D coordinates\n",
    "A user can find out the distance between 2 coordinates\n",
    "A user can find find the distance of a coordinate from origin\n",
    "A user can check if a point lies on a given line\n",
    "A user can find the distance between a given 2D point and a given line"
   ]
  },
  {
   "cell_type": "code",
   "execution_count": 20,
   "id": "36da4514",
   "metadata": {},
   "outputs": [],
   "source": [
    "class Point:\n",
    "\n",
    "  def __init__(self,x,y):\n",
    "    self.x_cod = x\n",
    "    self.y_cod = y\n",
    "\n",
    "  def __str__(self):\n",
    "    return '<{},{}>'.format(self.x_cod,self.y_cod)\n",
    "\n",
    "  def euclidean_distance(self,other):\n",
    "    return ((self.x_cod - other.x_cod)**2 + (self.y_cod - other.y_cod)**2)**0.5\n",
    "\n",
    "  def distance_from_origin(self):\n",
    "    return (self.x_cod**2 + self.y_cod**2)**0.5\n",
    "    # return self.euclidean_distance(Point(0,0))\n",
    "\n",
    "\n",
    "class Line:\n",
    "\n",
    "  def __init__(self,A,B,C):\n",
    "    self.A = A\n",
    "    self.B = B\n",
    "    self.C = C\n",
    "\n",
    "  def __str__(self):\n",
    "    return '{}x + {}y + {} = 0'.format(self.A,self.B,self.C)\n",
    "\n",
    "  def point_on_line(line,point):\n",
    "    if line.A*point.x_cod + line.B*point.y_cod + line.C == 0:\n",
    "      return \"lies on the line\"\n",
    "    else:\n",
    "      return \"does not lie on the line\"\n",
    "\n",
    "  def shortest_distance(line,point):\n",
    "    return abs(line.A*point.x_cod + line.B*point.y_cod + line.C)/(line.A**2 + line.B**2)**0.5"
   ]
  },
  {
   "cell_type": "code",
   "execution_count": 21,
   "id": "1de3aef4",
   "metadata": {},
   "outputs": [
    {
     "name": "stdout",
     "output_type": "stream",
     "text": [
      "1x + 1y + -2 = 0\n",
      "<1,10>\n"
     ]
    },
    {
     "data": {
      "text/plain": [
       "6.363961030678928"
      ]
     },
     "execution_count": 21,
     "metadata": {},
     "output_type": "execute_result"
    }
   ],
   "source": [
    "l1 = Line(1,1,-2)\n",
    "p1 = Point(1,10)\n",
    "print(l1)\n",
    "print(p1)\n",
    "\n",
    "l1.shortest_distance(p1)"
   ]
  },
  {
   "cell_type": "markdown",
   "id": "9575d860",
   "metadata": {},
   "source": [
    "## Reference Variables"
   ]
  },
  {
   "cell_type": "code",
   "execution_count": null,
   "id": "82c24a12",
   "metadata": {},
   "outputs": [],
   "source": [
    "Reference variables hold the objects\n",
    "We can create objects without reference variable as well\n",
    "An object can have multiple reference variables\n",
    "Assigning a new reference variable to an existing object does not create a new object"
   ]
  },
  {
   "cell_type": "code",
   "execution_count": 24,
   "id": "f29831f5",
   "metadata": {},
   "outputs": [],
   "source": [
    "class Person:\n",
    "\n",
    "  def __init__(self):\n",
    "    self.name = 'nitish'\n",
    "    self.gender = 'male'\n",
    "\n",
    "p = Person()\n",
    "q = p"
   ]
  },
  {
   "cell_type": "code",
   "execution_count": 25,
   "id": "8f17a270",
   "metadata": {},
   "outputs": [
    {
     "name": "stdout",
     "output_type": "stream",
     "text": [
      "nitish\n",
      "nitish\n",
      "ankit\n",
      "ankit\n"
     ]
    }
   ],
   "source": [
    "print(p.name)\n",
    "print(q.name)\n",
    "q.name = 'ankit'\n",
    "print(q.name)\n",
    "print(p.name)"
   ]
  },
  {
   "cell_type": "markdown",
   "id": "1b7ae35c",
   "metadata": {},
   "source": [
    "# 1.Encapsulation:"
   ]
  },
  {
   "cell_type": "code",
   "execution_count": null,
   "id": "6b878ede",
   "metadata": {},
   "outputs": [],
   "source": [
    "data and its 2 method getter and setter (method) . need to make our data private as well as to show its attribute.\n",
    "for every attribuite we set of getter and setter.\n",
    "Encapsulation restricts direct access to the internal state of an object and ensures that interactions with the object\n",
    "are done through well-defined methods, promoting data hiding and abstraction."
   ]
  },
  {
   "cell_type": "markdown",
   "id": "14c8c0c8",
   "metadata": {},
   "source": [
    "# static variable"
   ]
  },
  {
   "cell_type": "code",
   "execution_count": null,
   "id": "7481f6ea",
   "metadata": {},
   "outputs": [],
   "source": [
    "static variable : 1.every object has a same variable.\n",
    "                  2.static variable is of class.\n",
    "                  3.class name\n",
    "                    ex : bank ifsc code ,  \n",
    "                       college ,degree name ,univercity name\n",
    "                       "
   ]
  },
  {
   "cell_type": "code",
   "execution_count": null,
   "id": "9e6d6b0b",
   "metadata": {},
   "outputs": [],
   "source": [
    "instant variable : 1.every object has different variable.\n",
    "                   2.instant variable is of instant.\n",
    "                   3.self is used before\n",
    "                    ex : customer name ,customer id \n",
    "                        student cgpa ,student name.\n",
    "                    "
   ]
  },
  {
   "cell_type": "markdown",
   "id": "e7f26006",
   "metadata": {},
   "source": [
    "## Class Relationships"
   ]
  },
  {
   "cell_type": "code",
   "execution_count": null,
   "id": "3384ade3",
   "metadata": {},
   "outputs": [],
   "source": [
    "1.aggregaion : has relation , one class own another class.\n",
    "             when we create main class object , we put input of other class.\n",
    "            ex : customer has a address.\n",
    "                 restro has a menu.\n",
    "2.Inheritance                   "
   ]
  },
  {
   "cell_type": "markdown",
   "id": "301be534",
   "metadata": {},
   "source": [
    "## 2.Inheritance"
   ]
  },
  {
   "cell_type": "code",
   "execution_count": null,
   "id": "6f6b9c34",
   "metadata": {},
   "outputs": [],
   "source": [
    "Inheritance : in simple words the property of a father , is property of son .\n",
    "              parent class and child class . child class can acess parent class.\n",
    "              when we create child class we use (user) \n",
    "     concept 1: if child class does have its constructor than parent class constructor gets executed.\n",
    "     concept 2: if child class  have its constructor than parent class constructor does get call.\n",
    "     concept 3: child can't access private members of the class.\n",
    "     concept 4: Method Overriding: when both child/parent have same method then child class is executed.\n",
    "    \n",
    "benefit : coad re-usability ( no need to write code again and again )"
   ]
  },
  {
   "cell_type": "code",
   "execution_count": null,
   "id": "072af014",
   "metadata": {},
   "outputs": [],
   "source": [
    "Super Keyword : with super keyword we can call parent class.\n",
    "                is a way to access parent methods.\n",
    "                always used in child class."
   ]
  },
  {
   "cell_type": "code",
   "execution_count": null,
   "id": "cb288746",
   "metadata": {},
   "outputs": [],
   "source": [
    "Inheritance in summary\n",
    "1.A class can inherit from another class.\n",
    "2.Inheritance improves code reuse\n",
    "3.Constructor, attributes, methods get inherited to the child class\n",
    "4.The parent has no access to the child class\n",
    "5.Private properties of parent are not accessible directly in child class\n",
    "6.Child class can override the attributes or methods. This is called method overriding\n",
    "7.super() is an inbuilt function which is used to invoke the parent class methods and constructor"
   ]
  },
  {
   "cell_type": "code",
   "execution_count": null,
   "id": "035793c8",
   "metadata": {},
   "outputs": [],
   "source": [
    "Types of Inheritance\n",
    "                 1. Single Inheritance\n",
    "                 2. Multilevel Inheritance\n",
    "                 3. Hierarchical Inheritance\n",
    "                 4. Multiple Inheritance(Diamond Problem)\n",
    "                 5. Hybrid Inheritance"
   ]
  },
  {
   "attachments": {
    "1_gvHEf4lT2m_dHyH6c0UC1Q.png": {
     "image/png": "[encoded data removed]"
    }
   },
   "cell_type": "markdown",
   "id": "2e6ddcbc",
   "metadata": {},
   "source": [
    "![1_gvHEf4lT2m_dHyH6c0UC1Q.png](attachment:1_gvHEf4lT2m_dHyH6c0UC1Q.png)"
   ]
  },
  {
   "cell_type": "markdown",
   "id": "d34a30b5",
   "metadata": {},
   "source": [
    "## 3.Polymorphism"
   ]
  },
  {
   "cell_type": "code",
   "execution_count": null,
   "id": "e090c6a6",
   "metadata": {},
   "outputs": [],
   "source": [
    "having multiple faces ,according to situation.\n",
    "\n",
    "types : \n",
    "                1.Method Overriding\n",
    "                2.Method Overloading\n",
    "                3.Operator Overloading"
   ]
  },
  {
   "cell_type": "code",
   "execution_count": null,
   "id": "7cb582ed",
   "metadata": {},
   "outputs": [],
   "source": [
    "2.Method Overloading : \n",
    "    single class having multiple function with same name on input bases\n",
    "     ex : area : 3.14*base*height  or base * height\n",
    "benifit :  code is clean in reading.\n",
    "           readebility increase\n"
   ]
  },
  {
   "cell_type": "code",
   "execution_count": null,
   "id": "9afa77ee",
   "metadata": {},
   "outputs": [],
   "source": [
    "3.Operator Overloading :\n",
    "    same operator but depending on different input get different output.\n",
    "    example : 'hello' + 'world' =  helloworld       # conncatination.\n",
    "              4 + 5 = 9                             # addition\n",
    "              [1,2,3] + [4,5] =  [1, 2, 3, 4, 5]    #  merging"
   ]
  },
  {
   "cell_type": "markdown",
   "id": "a36e50d1",
   "metadata": {},
   "source": [
    "## 4.Abstraction"
   ]
  },
  {
   "cell_type": "code",
   "execution_count": null,
   "id": "c6bf3489",
   "metadata": {},
   "outputs": [],
   "source": [
    "higher level class creating constrain on lower level class.\n",
    "child class should obav parent .\n",
    "at lest 1 abstract classs.\n",
    "least used oop concept."
   ]
  },
  {
   "cell_type": "code",
   "execution_count": null,
   "id": "363771b7",
   "metadata": {},
   "outputs": [],
   "source": []
  },
  {
   "cell_type": "code",
   "execution_count": null,
   "id": "a7878660",
   "metadata": {},
   "outputs": [],
   "source": []
  }
 ],
 "metadata": {
  "kernelspec": {
   "display_name": "Python 3 (ipykernel)",
   "language": "python",
   "name": "python3"
  },
  "language_info": {
   "codemirror_mode": {
    "name": "ipython",
    "version": 3
   },
   "file_extension": ".py",
   "mimetype": "text/x-python",
   "name": "python",
   "nbconvert_exporter": "python",
   "pygments_lexer": "ipython3",
   "version": "3.9.12"
  }
 },
 "nbformat": 4,
 "nbformat_minor": 5
}
